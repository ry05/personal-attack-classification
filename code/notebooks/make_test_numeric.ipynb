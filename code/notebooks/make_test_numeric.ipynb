{
 "metadata": {
  "language_info": {
   "codemirror_mode": {
    "name": "ipython",
    "version": 3
   },
   "file_extension": ".py",
   "mimetype": "text/x-python",
   "name": "python",
   "nbconvert_exporter": "python",
   "pygments_lexer": "ipython3",
   "version": 3
  },
  "orig_nbformat": 2
 },
 "nbformat": 4,
 "nbformat_minor": 2,
 "cells": [
  {
   "source": [
    "# Code to prepare the test data with numeric features"
   ],
   "cell_type": "markdown",
   "metadata": {}
  },
  {
   "cell_type": "code",
   "execution_count": null,
   "metadata": {},
   "outputs": [],
   "source": [
    "import sys\n",
    "\n",
    "import pandas as pd\n",
    "import textstat\n",
    "import spacy\n",
    "nlp = spacy.load(\"en_core_web_md\")\n",
    "from afinn import Afinn\n",
    "afinn = Afinn()\n",
    "\n",
    "sys.path.insert(0, '../src')\n",
    "import config"
   ]
  },
  {
   "cell_type": "code",
   "execution_count": null,
   "metadata": {},
   "outputs": [],
   "source": [
    "# load raw test data\n",
    "\n",
    "test = pd.read_csv(\"../data/test.csv\")"
   ]
  },
  {
   "cell_type": "code",
   "execution_count": null,
   "metadata": {},
   "outputs": [],
   "source": [
    "# create the new features\n",
    "\n",
    "test['dale_chall'] = test.text.apply(textstat.dale_chall_readability_score)\n",
    "test['digits_count'] = test.text.apply(lambda x: len([tok.lower_ for tok in nlp(x) if tok.is_digit]))\n",
    "test['caps_word_count'] = test.text.apply(lambda x: len([word for word in x.split() if word.isupper() and len(word) > 1]))\n",
    "test['fu**_cnt'] = test.text.apply(lambda x: 1 if ('fuck' in x.lower()) else 0)\n",
    "test['n***_cnt'] = test.text.apply(lambda x: 1 if ('nigg' in x.lower()) else 0)\n",
    "test['f*g_cnt'] = test.text.apply(lambda x: 1 if ('fag' in x.lower()) or ('fgg' in x.lower()) else 0)\n",
    "test['article_cnt'] = test.text.apply(lambda x: 1 if ('article' in x.lower()) else 0)\n",
    "test['source_cnt'] = test.text.apply(lambda x: 1 if ('source' in x.lower()) else 0)\n",
    "test['afinn'] = test.text.apply(afinn.score)\n",
    "test['you_count'] = test.text.apply(lambda x: x.lower().count('you'))\n",
    "test['REDIRECT_count'] = test.text.apply(lambda x: 1 if 'REDIRECT' in x else 0)\n",
    "\n",
    "# save\n",
    "test.to_csv(config.TEST_NUMERIC, index=False)"
   ]
  }
 ]
}