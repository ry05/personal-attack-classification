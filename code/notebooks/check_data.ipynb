{
 "cells": [
  {
   "cell_type": "markdown",
   "source": "# Check Data\n\nThe purpose of this notebook is to perform sanity checks of datasets. Therefore, this notebook might contain code that is irrelevant to the building of the main model.",
   "metadata": {
    "tags": [],
    "cell_id": "00000-7eab6d47-c478-4d4c-9bcd-1a250c3ad5ef",
    "deepnote_cell_type": "markdown"
   }
  },
  {
   "cell_type": "code",
   "metadata": {
    "tags": [],
    "cell_id": "00000-f2d2e786-cb28-4e73-8d07-6f9f84e98376",
    "deepnote_to_be_reexecuted": false,
    "source_hash": "9b82ee11",
    "execution_start": 1621513196551,
    "execution_millis": 0,
    "deepnote_cell_type": "code"
   },
   "source": "import pandas as pd",
   "execution_count": 1,
   "outputs": []
  },
  {
   "cell_type": "code",
   "metadata": {
    "tags": [],
    "cell_id": "00001-8a8f95fe-3377-4149-9eac-e7bd73295de4",
    "deepnote_to_be_reexecuted": false,
    "source_hash": "565664a7",
    "execution_start": 1621513197796,
    "execution_millis": 801,
    "deepnote_cell_type": "code"
   },
   "source": "train = pd.read_csv(\"../data/train.csv\")\ntest = pd.read_csv(\"../data/test.csv\")\nsub = pd.read_csv(\"../data/submission.csv\")",
   "execution_count": 2,
   "outputs": []
  },
  {
   "cell_type": "code",
   "metadata": {
    "tags": [],
    "cell_id": "00003-06d16fb5-27c3-4d40-9c72-46cd582f6d9e",
    "deepnote_to_be_reexecuted": false,
    "source_hash": "8da837eb",
    "execution_start": 1621513199478,
    "execution_millis": 15,
    "deepnote_cell_type": "code"
   },
   "source": "# distribution of labels\ntrain.attack.value_counts()",
   "execution_count": 3,
   "outputs": [
    {
     "output_type": "execute_result",
     "execution_count": 3,
     "data": {
      "text/plain": "0    11778\n1     3222\nName: attack, dtype: int64"
     },
     "metadata": {}
    }
   ]
  },
  {
   "cell_type": "markdown",
   "source": "There is class imbalance: *For every comment that is a personal attack, there is ~4 comments that are personal attacks*",
   "metadata": {
    "tags": [],
    "cell_id": "00004-691401c4-2cb9-4ae0-b0d1-c8f1fc7a398d",
    "deepnote_cell_type": "markdown"
   }
  },
  {
   "cell_type": "code",
   "metadata": {
    "tags": [],
    "cell_id": "00004-2d803872-347e-4ef3-8507-2c1aba7ff97d",
    "deepnote_to_be_reexecuted": false,
    "source_hash": "5c4dbf65",
    "execution_start": 1621513201436,
    "execution_millis": 23,
    "deepnote_cell_type": "code"
   },
   "source": "# preview one comment from each\nprint(\"Attack preview\")\nprint(train[train.attack==1].text.iloc[3])\nprint(\"\\nNot attack preview\")\nprint(train[train.attack==0].text.iloc[2])",
   "execution_count": 4,
   "outputs": [
    {
     "name": "stdout",
     "text": "Attack preview\nYou could say the same about ``your version``.  I do feel sorry for you because you clearly know nothing about the subject, yet oddly feel compelled to aggressively and rudely defend the status quo, about which you are entirely ignorant.\n\nNot attack preview\nI just came to this page and was wondering why there is no ``Criticism`` or ``Controversy`` tab for me to click on at the top, I am aware her life is a source of controversy why can't I read about it\n",
     "output_type": "stream"
    }
   ]
  },
  {
   "cell_type": "markdown",
   "source": "## Checking Numeric Data",
   "metadata": {
    "tags": [],
    "cell_id": "00006-099fd64c-8048-4c05-b433-05a4b2956a54",
    "deepnote_cell_type": "markdown"
   }
  },
  {
   "cell_type": "code",
   "metadata": {
    "tags": [],
    "cell_id": "00007-3c359797-7ac3-44ba-9bb4-f28822a647eb",
    "deepnote_to_be_reexecuted": false,
    "source_hash": "d23c90a5",
    "execution_start": 1621513205397,
    "execution_millis": 153,
    "deepnote_cell_type": "code"
   },
   "source": "train = pd.read_csv(\"../data/processed/train_numeric_final.csv\")\ntrain.info()",
   "execution_count": 5,
   "outputs": [
    {
     "name": "stdout",
     "text": "<class 'pandas.core.frame.DataFrame'>\nRangeIndex: 15000 entries, 0 to 14999\nData columns (total 14 columns):\n #   Column           Non-Null Count  Dtype  \n---  ------           --------------  -----  \n 0   id               15000 non-null  int64  \n 1   text             15000 non-null  object \n 2   afinn            15000 non-null  float64\n 3   you_count        15000 non-null  int64  \n 4   caps_word_count  15000 non-null  int64  \n 5   digits_count     15000 non-null  int64  \n 6   dale_chall       15000 non-null  float64\n 7   article_cnt      15000 non-null  int64  \n 8   source_cnt       15000 non-null  int64  \n 9   fu**_cnt         15000 non-null  int64  \n 10  f*g_cnt          15000 non-null  int64  \n 11  n***_cnt         15000 non-null  int64  \n 12  REDIRECT_count   15000 non-null  int64  \n 13  attack           15000 non-null  int64  \ndtypes: float64(2), int64(11), object(1)\nmemory usage: 1.6+ MB\n",
     "output_type": "stream"
    }
   ]
  },
  {
   "cell_type": "code",
   "metadata": {
    "tags": [],
    "cell_id": "00008-ddf003dd-ec8d-4e0b-8b0c-8cc44975692f",
    "deepnote_to_be_reexecuted": false,
    "source_hash": "e1f0b45",
    "execution_start": 1621513208073,
    "execution_millis": 41,
    "deepnote_cell_type": "code"
   },
   "source": "train.head()",
   "execution_count": 6,
   "outputs": [
    {
     "output_type": "execute_result",
     "execution_count": 6,
     "data": {
      "application/vnd.deepnote.dataframe.v2+json": {
       "row_count": 5,
       "column_count": 14,
       "columns": [
        {
         "name": "id",
         "dtype": "int64",
         "stats": {
          "unique_count": 5,
          "nan_count": 0,
          "min": "61527923",
          "max": "348598183",
          "histogram": [
           {
            "bin_start": 61527923,
            "bin_end": 90234949,
            "count": 1
           },
           {
            "bin_start": 90234949,
            "bin_end": 118941975,
            "count": 1
           },
           {
            "bin_start": 118941975,
            "bin_end": 147649001,
            "count": 0
           },
           {
            "bin_start": 147649001,
            "bin_end": 176356027,
            "count": 0
           },
           {
            "bin_start": 176356027,
            "bin_end": 205063053,
            "count": 1
           },
           {
            "bin_start": 205063053,
            "bin_end": 233770079,
            "count": 0
           },
           {
            "bin_start": 233770079,
            "bin_end": 262477105,
            "count": 0
           },
           {
            "bin_start": 262477105,
            "bin_end": 291184131,
            "count": 0
           },
           {
            "bin_start": 291184131,
            "bin_end": 319891157,
            "count": 0
           },
           {
            "bin_start": 319891157,
            "bin_end": 348598183,
            "count": 2
           }
          ]
         }
        },
        {
         "name": "text",
         "dtype": "object",
         "stats": {
          "unique_count": 5,
          "nan_count": 0,
          "categories": [
           {
            "name": "which may contain more details",
            "count": 1
           },
           {
            "name": "Regardless, the point is that I am willing to see what information you have to add to the article.  I'd rather not have my contributions be stricken by a lurker simply because you don't like me or whatever personal reason you can concoct.  Please, contribute positively to the article or butt-out and mind your business.",
            "count": 1
           },
           {
            "name": "3 others",
            "count": 3
           }
          ]
         }
        },
        {
         "name": "afinn",
         "dtype": "float64",
         "stats": {
          "unique_count": 5,
          "nan_count": 0,
          "min": "-15.0",
          "max": "3.0",
          "histogram": [
           {
            "bin_start": -15,
            "bin_end": -13.2,
            "count": 1
           },
           {
            "bin_start": -13.2,
            "bin_end": -11.4,
            "count": 0
           },
           {
            "bin_start": -11.4,
            "bin_end": -9.6,
            "count": 0
           },
           {
            "bin_start": -9.6,
            "bin_end": -7.8,
            "count": 0
           },
           {
            "bin_start": -7.8,
            "bin_end": -6,
            "count": 0
           },
           {
            "bin_start": -6,
            "bin_end": -4.199999999999999,
            "count": 1
           },
           {
            "bin_start": -4.199999999999999,
            "bin_end": -2.4000000000000004,
            "count": 1
           },
           {
            "bin_start": -2.4000000000000004,
            "bin_end": -0.5999999999999996,
            "count": 0
           },
           {
            "bin_start": -0.5999999999999996,
            "bin_end": 1.1999999999999993,
            "count": 1
           },
           {
            "bin_start": 1.1999999999999993,
            "bin_end": 3,
            "count": 1
           }
          ]
         }
        },
        {
         "name": "you_count",
         "dtype": "int64",
         "stats": {
          "unique_count": 2,
          "nan_count": 0,
          "min": "0",
          "max": "4",
          "histogram": [
           {
            "bin_start": 0,
            "bin_end": 0.4,
            "count": 4
           },
           {
            "bin_start": 0.4,
            "bin_end": 0.8,
            "count": 0
           },
           {
            "bin_start": 0.8,
            "bin_end": 1.2000000000000002,
            "count": 0
           },
           {
            "bin_start": 1.2000000000000002,
            "bin_end": 1.6,
            "count": 0
           },
           {
            "bin_start": 1.6,
            "bin_end": 2,
            "count": 0
           },
           {
            "bin_start": 2,
            "bin_end": 2.4000000000000004,
            "count": 0
           },
           {
            "bin_start": 2.4000000000000004,
            "bin_end": 2.8000000000000003,
            "count": 0
           },
           {
            "bin_start": 2.8000000000000003,
            "bin_end": 3.2,
            "count": 0
           },
           {
            "bin_start": 3.2,
            "bin_end": 3.6,
            "count": 0
           },
           {
            "bin_start": 3.6,
            "bin_end": 4,
            "count": 1
           }
          ]
         }
        },
        {
         "name": "caps_word_count",
         "dtype": "int64",
         "stats": {
          "unique_count": 1,
          "nan_count": 0,
          "min": "0",
          "max": "0",
          "histogram": [
           {
            "bin_start": -0.5,
            "bin_end": -0.4,
            "count": 0
           },
           {
            "bin_start": -0.4,
            "bin_end": -0.3,
            "count": 0
           },
           {
            "bin_start": -0.3,
            "bin_end": -0.19999999999999996,
            "count": 0
           },
           {
            "bin_start": -0.19999999999999996,
            "bin_end": -0.09999999999999998,
            "count": 0
           },
           {
            "bin_start": -0.09999999999999998,
            "bin_end": 0,
            "count": 0
           },
           {
            "bin_start": 0,
            "bin_end": 0.10000000000000009,
            "count": 5
           },
           {
            "bin_start": 0.10000000000000009,
            "bin_end": 0.20000000000000007,
            "count": 0
           },
           {
            "bin_start": 0.20000000000000007,
            "bin_end": 0.30000000000000004,
            "count": 0
           },
           {
            "bin_start": 0.30000000000000004,
            "bin_end": 0.4,
            "count": 0
           },
           {
            "bin_start": 0.4,
            "bin_end": 0.5,
            "count": 0
           }
          ]
         }
        },
        {
         "name": "digits_count",
         "dtype": "int64",
         "stats": {
          "unique_count": 2,
          "nan_count": 0,
          "min": "0",
          "max": "1",
          "histogram": [
           {
            "bin_start": 0,
            "bin_end": 0.1,
            "count": 4
           },
           {
            "bin_start": 0.1,
            "bin_end": 0.2,
            "count": 0
           },
           {
            "bin_start": 0.2,
            "bin_end": 0.30000000000000004,
            "count": 0
           },
           {
            "bin_start": 0.30000000000000004,
            "bin_end": 0.4,
            "count": 0
           },
           {
            "bin_start": 0.4,
            "bin_end": 0.5,
            "count": 0
           },
           {
            "bin_start": 0.5,
            "bin_end": 0.6000000000000001,
            "count": 0
           },
           {
            "bin_start": 0.6000000000000001,
            "bin_end": 0.7000000000000001,
            "count": 0
           },
           {
            "bin_start": 0.7000000000000001,
            "bin_end": 0.8,
            "count": 0
           },
           {
            "bin_start": 0.8,
            "bin_end": 0.9,
            "count": 0
           },
           {
            "bin_start": 0.9,
            "bin_end": 1,
            "count": 1
           }
          ]
         }
        },
        {
         "name": "dale_chall",
         "dtype": "float64",
         "stats": {
          "unique_count": 5,
          "nan_count": 0,
          "min": "6.83",
          "max": "10.2",
          "histogram": [
           {
            "bin_start": 6.83,
            "bin_end": 7.167,
            "count": 1
           },
           {
            "bin_start": 7.167,
            "bin_end": 7.504,
            "count": 0
           },
           {
            "bin_start": 7.504,
            "bin_end": 7.840999999999999,
            "count": 1
           },
           {
            "bin_start": 7.840999999999999,
            "bin_end": 8.177999999999999,
            "count": 0
           },
           {
            "bin_start": 8.177999999999999,
            "bin_end": 8.515,
            "count": 1
           },
           {
            "bin_start": 8.515,
            "bin_end": 8.852,
            "count": 0
           },
           {
            "bin_start": 8.852,
            "bin_end": 9.189,
            "count": 0
           },
           {
            "bin_start": 9.189,
            "bin_end": 9.526,
            "count": 0
           },
           {
            "bin_start": 9.526,
            "bin_end": 9.863,
            "count": 1
           },
           {
            "bin_start": 9.863,
            "bin_end": 10.2,
            "count": 1
           }
          ]
         }
        },
        {
         "name": "article_cnt",
         "dtype": "int64",
         "stats": {
          "unique_count": 2,
          "nan_count": 0,
          "min": "0",
          "max": "1",
          "histogram": [
           {
            "bin_start": 0,
            "bin_end": 0.1,
            "count": 4
           },
           {
            "bin_start": 0.1,
            "bin_end": 0.2,
            "count": 0
           },
           {
            "bin_start": 0.2,
            "bin_end": 0.30000000000000004,
            "count": 0
           },
           {
            "bin_start": 0.30000000000000004,
            "bin_end": 0.4,
            "count": 0
           },
           {
            "bin_start": 0.4,
            "bin_end": 0.5,
            "count": 0
           },
           {
            "bin_start": 0.5,
            "bin_end": 0.6000000000000001,
            "count": 0
           },
           {
            "bin_start": 0.6000000000000001,
            "bin_end": 0.7000000000000001,
            "count": 0
           },
           {
            "bin_start": 0.7000000000000001,
            "bin_end": 0.8,
            "count": 0
           },
           {
            "bin_start": 0.8,
            "bin_end": 0.9,
            "count": 0
           },
           {
            "bin_start": 0.9,
            "bin_end": 1,
            "count": 1
           }
          ]
         }
        },
        {
         "name": "source_cnt",
         "dtype": "int64",
         "stats": {
          "unique_count": 2,
          "nan_count": 0,
          "min": "0",
          "max": "1",
          "histogram": [
           {
            "bin_start": 0,
            "bin_end": 0.1,
            "count": 4
           },
           {
            "bin_start": 0.1,
            "bin_end": 0.2,
            "count": 0
           },
           {
            "bin_start": 0.2,
            "bin_end": 0.30000000000000004,
            "count": 0
           },
           {
            "bin_start": 0.30000000000000004,
            "bin_end": 0.4,
            "count": 0
           },
           {
            "bin_start": 0.4,
            "bin_end": 0.5,
            "count": 0
           },
           {
            "bin_start": 0.5,
            "bin_end": 0.6000000000000001,
            "count": 0
           },
           {
            "bin_start": 0.6000000000000001,
            "bin_end": 0.7000000000000001,
            "count": 0
           },
           {
            "bin_start": 0.7000000000000001,
            "bin_end": 0.8,
            "count": 0
           },
           {
            "bin_start": 0.8,
            "bin_end": 0.9,
            "count": 0
           },
           {
            "bin_start": 0.9,
            "bin_end": 1,
            "count": 1
           }
          ]
         }
        },
        {
         "name": "fu**_cnt",
         "dtype": "int64",
         "stats": {
          "unique_count": 1,
          "nan_count": 0,
          "min": "0",
          "max": "0",
          "histogram": [
           {
            "bin_start": -0.5,
            "bin_end": -0.4,
            "count": 0
           },
           {
            "bin_start": -0.4,
            "bin_end": -0.3,
            "count": 0
           },
           {
            "bin_start": -0.3,
            "bin_end": -0.19999999999999996,
            "count": 0
           },
           {
            "bin_start": -0.19999999999999996,
            "bin_end": -0.09999999999999998,
            "count": 0
           },
           {
            "bin_start": -0.09999999999999998,
            "bin_end": 0,
            "count": 0
           },
           {
            "bin_start": 0,
            "bin_end": 0.10000000000000009,
            "count": 5
           },
           {
            "bin_start": 0.10000000000000009,
            "bin_end": 0.20000000000000007,
            "count": 0
           },
           {
            "bin_start": 0.20000000000000007,
            "bin_end": 0.30000000000000004,
            "count": 0
           },
           {
            "bin_start": 0.30000000000000004,
            "bin_end": 0.4,
            "count": 0
           },
           {
            "bin_start": 0.4,
            "bin_end": 0.5,
            "count": 0
           }
          ]
         }
        },
        {
         "name": "f*g_cnt",
         "dtype": "int64",
         "stats": {
          "unique_count": 1,
          "nan_count": 0,
          "min": "0",
          "max": "0",
          "histogram": [
           {
            "bin_start": -0.5,
            "bin_end": -0.4,
            "count": 0
           },
           {
            "bin_start": -0.4,
            "bin_end": -0.3,
            "count": 0
           },
           {
            "bin_start": -0.3,
            "bin_end": -0.19999999999999996,
            "count": 0
           },
           {
            "bin_start": -0.19999999999999996,
            "bin_end": -0.09999999999999998,
            "count": 0
           },
           {
            "bin_start": -0.09999999999999998,
            "bin_end": 0,
            "count": 0
           },
           {
            "bin_start": 0,
            "bin_end": 0.10000000000000009,
            "count": 5
           },
           {
            "bin_start": 0.10000000000000009,
            "bin_end": 0.20000000000000007,
            "count": 0
           },
           {
            "bin_start": 0.20000000000000007,
            "bin_end": 0.30000000000000004,
            "count": 0
           },
           {
            "bin_start": 0.30000000000000004,
            "bin_end": 0.4,
            "count": 0
           },
           {
            "bin_start": 0.4,
            "bin_end": 0.5,
            "count": 0
           }
          ]
         }
        },
        {
         "name": "n***_cnt",
         "dtype": "int64",
         "stats": {
          "unique_count": 1,
          "nan_count": 0,
          "min": "0",
          "max": "0",
          "histogram": [
           {
            "bin_start": -0.5,
            "bin_end": -0.4,
            "count": 0
           },
           {
            "bin_start": -0.4,
            "bin_end": -0.3,
            "count": 0
           },
           {
            "bin_start": -0.3,
            "bin_end": -0.19999999999999996,
            "count": 0
           },
           {
            "bin_start": -0.19999999999999996,
            "bin_end": -0.09999999999999998,
            "count": 0
           },
           {
            "bin_start": -0.09999999999999998,
            "bin_end": 0,
            "count": 0
           },
           {
            "bin_start": 0,
            "bin_end": 0.10000000000000009,
            "count": 5
           },
           {
            "bin_start": 0.10000000000000009,
            "bin_end": 0.20000000000000007,
            "count": 0
           },
           {
            "bin_start": 0.20000000000000007,
            "bin_end": 0.30000000000000004,
            "count": 0
           },
           {
            "bin_start": 0.30000000000000004,
            "bin_end": 0.4,
            "count": 0
           },
           {
            "bin_start": 0.4,
            "bin_end": 0.5,
            "count": 0
           }
          ]
         }
        },
        {
         "name": "REDIRECT_count",
         "dtype": "int64",
         "stats": {
          "unique_count": 1,
          "nan_count": 0,
          "min": "0",
          "max": "0",
          "histogram": [
           {
            "bin_start": -0.5,
            "bin_end": -0.4,
            "count": 0
           },
           {
            "bin_start": -0.4,
            "bin_end": -0.3,
            "count": 0
           },
           {
            "bin_start": -0.3,
            "bin_end": -0.19999999999999996,
            "count": 0
           },
           {
            "bin_start": -0.19999999999999996,
            "bin_end": -0.09999999999999998,
            "count": 0
           },
           {
            "bin_start": -0.09999999999999998,
            "bin_end": 0,
            "count": 0
           },
           {
            "bin_start": 0,
            "bin_end": 0.10000000000000009,
            "count": 5
           },
           {
            "bin_start": 0.10000000000000009,
            "bin_end": 0.20000000000000007,
            "count": 0
           },
           {
            "bin_start": 0.20000000000000007,
            "bin_end": 0.30000000000000004,
            "count": 0
           },
           {
            "bin_start": 0.30000000000000004,
            "bin_end": 0.4,
            "count": 0
           },
           {
            "bin_start": 0.4,
            "bin_end": 0.5,
            "count": 0
           }
          ]
         }
        },
        {
         "name": "attack",
         "dtype": "int64",
         "stats": {
          "unique_count": 2,
          "nan_count": 0,
          "min": "0",
          "max": "1",
          "histogram": [
           {
            "bin_start": 0,
            "bin_end": 0.1,
            "count": 3
           },
           {
            "bin_start": 0.1,
            "bin_end": 0.2,
            "count": 0
           },
           {
            "bin_start": 0.2,
            "bin_end": 0.30000000000000004,
            "count": 0
           },
           {
            "bin_start": 0.30000000000000004,
            "bin_end": 0.4,
            "count": 0
           },
           {
            "bin_start": 0.4,
            "bin_end": 0.5,
            "count": 0
           },
           {
            "bin_start": 0.5,
            "bin_end": 0.6000000000000001,
            "count": 0
           },
           {
            "bin_start": 0.6000000000000001,
            "bin_end": 0.7000000000000001,
            "count": 0
           },
           {
            "bin_start": 0.7000000000000001,
            "bin_end": 0.8,
            "count": 0
           },
           {
            "bin_start": 0.8,
            "bin_end": 0.9,
            "count": 0
           },
           {
            "bin_start": 0.9,
            "bin_end": 1,
            "count": 2
           }
          ]
         }
        },
        {
         "name": "_deepnote_index_column",
         "dtype": "int64"
        }
       ],
       "rows_top": [
        {
         "id": 348598183,
         "text": "which may contain more details",
         "afinn": 0,
         "you_count": 0,
         "caps_word_count": 0,
         "digits_count": 0,
         "dale_chall": 10.2,
         "article_cnt": 0,
         "source_cnt": 0,
         "fu**_cnt": 0,
         "f*g_cnt": 0,
         "n***_cnt": 0,
         "REDIRECT_count": 0,
         "attack": 0,
         "_deepnote_index_column": 0
        },
        {
         "id": 61527923,
         "text": "Regardless, the point is that I am willing to see what information you have to add to the article.  I'd rather not have my contributions be stricken by a lurker simply because you don't like me or whatever personal reason you can concoct.  Please, contribute positively to the article or butt-out and mind your business.",
         "afinn": 3,
         "you_count": 4,
         "caps_word_count": 0,
         "digits_count": 0,
         "dale_chall": 9.81,
         "article_cnt": 1,
         "source_cnt": 0,
         "fu**_cnt": 0,
         "f*g_cnt": 0,
         "n***_cnt": 0,
         "REDIRECT_count": 0,
         "attack": 1,
         "_deepnote_index_column": 1
        },
        {
         "id": 325989249,
         "text": "Lede  \nI'm reverting (again) the additions to the lede on ``controversies``. It (a) gives undue weight to some very old controversies and (b) is wrong - Amway was not found guilty of criminal tax evasion nor of copyright versions. In the Canadian case they pleaded guilty to settle the case, and in the second Amway settled a case that was against distributors, not Amway.",
         "afinn": -15,
         "you_count": 0,
         "caps_word_count": 0,
         "digits_count": 0,
         "dale_chall": 7.69,
         "article_cnt": 0,
         "source_cnt": 0,
         "fu**_cnt": 0,
         "f*g_cnt": 0,
         "n***_cnt": 0,
         "REDIRECT_count": 0,
         "attack": 0,
         "_deepnote_index_column": 2
        },
        {
         "id": 197250961,
         "text": "I just came to this page and was wondering why there is no ``Criticism`` or ``Controversy`` tab for me to click on at the top, I am aware her life is a source of controversy why can't I read about it",
         "afinn": -5,
         "you_count": 0,
         "caps_word_count": 0,
         "digits_count": 0,
         "dale_chall": 6.83,
         "article_cnt": 0,
         "source_cnt": 1,
         "fu**_cnt": 0,
         "f*g_cnt": 0,
         "n***_cnt": 0,
         "REDIRECT_count": 0,
         "attack": 0,
         "_deepnote_index_column": 3
        },
        {
         "id": 116195271,
         "text": "It's worth having an illustration.  The Type 2 picture, however, is frankly very shitty.  It's blurry and doesn't impart any information.  /)",
         "afinn": -3,
         "you_count": 0,
         "caps_word_count": 0,
         "digits_count": 1,
         "dale_chall": 8.44,
         "article_cnt": 0,
         "source_cnt": 0,
         "fu**_cnt": 0,
         "f*g_cnt": 0,
         "n***_cnt": 0,
         "REDIRECT_count": 0,
         "attack": 1,
         "_deepnote_index_column": 4
        }
       ],
       "rows_bottom": null
      },
      "text/plain": "          id                                               text  afinn  \\\n0  348598183                     which may contain more details    0.0   \n1   61527923  Regardless, the point is that I am willing to ...    3.0   \n2  325989249  Lede  \\nI'm reverting (again) the additions to...  -15.0   \n3  197250961  I just came to this page and was wondering why...   -5.0   \n4  116195271  It's worth having an illustration.  The Type 2...   -3.0   \n\n   you_count  caps_word_count  digits_count  dale_chall  article_cnt  \\\n0          0                0             0       10.20            0   \n1          4                0             0        9.81            1   \n2          0                0             0        7.69            0   \n3          0                0             0        6.83            0   \n4          0                0             1        8.44            0   \n\n   source_cnt  fu**_cnt  f*g_cnt  n***_cnt  REDIRECT_count  attack  \n0           0         0        0         0               0       0  \n1           0         0        0         0               0       1  \n2           0         0        0         0               0       0  \n3           1         0        0         0               0       0  \n4           0         0        0         0               0       1  ",
      "text/html": "<div>\n<style scoped>\n    .dataframe tbody tr th:only-of-type {\n        vertical-align: middle;\n    }\n\n    .dataframe tbody tr th {\n        vertical-align: top;\n    }\n\n    .dataframe thead th {\n        text-align: right;\n    }\n</style>\n<table border=\"1\" class=\"dataframe\">\n  <thead>\n    <tr style=\"text-align: right;\">\n      <th></th>\n      <th>id</th>\n      <th>text</th>\n      <th>afinn</th>\n      <th>you_count</th>\n      <th>caps_word_count</th>\n      <th>digits_count</th>\n      <th>dale_chall</th>\n      <th>article_cnt</th>\n      <th>source_cnt</th>\n      <th>fu**_cnt</th>\n      <th>f*g_cnt</th>\n      <th>n***_cnt</th>\n      <th>REDIRECT_count</th>\n      <th>attack</th>\n    </tr>\n  </thead>\n  <tbody>\n    <tr>\n      <th>0</th>\n      <td>348598183</td>\n      <td>which may contain more details</td>\n      <td>0.0</td>\n      <td>0</td>\n      <td>0</td>\n      <td>0</td>\n      <td>10.20</td>\n      <td>0</td>\n      <td>0</td>\n      <td>0</td>\n      <td>0</td>\n      <td>0</td>\n      <td>0</td>\n      <td>0</td>\n    </tr>\n    <tr>\n      <th>1</th>\n      <td>61527923</td>\n      <td>Regardless, the point is that I am willing to ...</td>\n      <td>3.0</td>\n      <td>4</td>\n      <td>0</td>\n      <td>0</td>\n      <td>9.81</td>\n      <td>1</td>\n      <td>0</td>\n      <td>0</td>\n      <td>0</td>\n      <td>0</td>\n      <td>0</td>\n      <td>1</td>\n    </tr>\n    <tr>\n      <th>2</th>\n      <td>325989249</td>\n      <td>Lede  \\nI'm reverting (again) the additions to...</td>\n      <td>-15.0</td>\n      <td>0</td>\n      <td>0</td>\n      <td>0</td>\n      <td>7.69</td>\n      <td>0</td>\n      <td>0</td>\n      <td>0</td>\n      <td>0</td>\n      <td>0</td>\n      <td>0</td>\n      <td>0</td>\n    </tr>\n    <tr>\n      <th>3</th>\n      <td>197250961</td>\n      <td>I just came to this page and was wondering why...</td>\n      <td>-5.0</td>\n      <td>0</td>\n      <td>0</td>\n      <td>0</td>\n      <td>6.83</td>\n      <td>0</td>\n      <td>1</td>\n      <td>0</td>\n      <td>0</td>\n      <td>0</td>\n      <td>0</td>\n      <td>0</td>\n    </tr>\n    <tr>\n      <th>4</th>\n      <td>116195271</td>\n      <td>It's worth having an illustration.  The Type 2...</td>\n      <td>-3.0</td>\n      <td>0</td>\n      <td>0</td>\n      <td>1</td>\n      <td>8.44</td>\n      <td>0</td>\n      <td>0</td>\n      <td>0</td>\n      <td>0</td>\n      <td>0</td>\n      <td>0</td>\n      <td>1</td>\n    </tr>\n  </tbody>\n</table>\n</div>"
     },
     "metadata": {}
    }
   ]
  },
  {
   "cell_type": "code",
   "metadata": {
    "tags": [],
    "cell_id": "00009-c1ed163e-2210-4283-a45e-71b4ec2f88d5",
    "deepnote_to_be_reexecuted": false,
    "source_hash": "9eb38779",
    "execution_start": 1621513210015,
    "execution_millis": 65,
    "deepnote_cell_type": "code"
   },
   "source": "train['len'] = train.text.apply(len)\ntrain.head()",
   "execution_count": 7,
   "outputs": [
    {
     "output_type": "execute_result",
     "execution_count": 7,
     "data": {
      "application/vnd.deepnote.dataframe.v2+json": {
       "row_count": 5,
       "column_count": 15,
       "columns": [
        {
         "name": "id",
         "dtype": "int64",
         "stats": {
          "unique_count": 5,
          "nan_count": 0,
          "min": "61527923",
          "max": "348598183",
          "histogram": [
           {
            "bin_start": 61527923,
            "bin_end": 90234949,
            "count": 1
           },
           {
            "bin_start": 90234949,
            "bin_end": 118941975,
            "count": 1
           },
           {
            "bin_start": 118941975,
            "bin_end": 147649001,
            "count": 0
           },
           {
            "bin_start": 147649001,
            "bin_end": 176356027,
            "count": 0
           },
           {
            "bin_start": 176356027,
            "bin_end": 205063053,
            "count": 1
           },
           {
            "bin_start": 205063053,
            "bin_end": 233770079,
            "count": 0
           },
           {
            "bin_start": 233770079,
            "bin_end": 262477105,
            "count": 0
           },
           {
            "bin_start": 262477105,
            "bin_end": 291184131,
            "count": 0
           },
           {
            "bin_start": 291184131,
            "bin_end": 319891157,
            "count": 0
           },
           {
            "bin_start": 319891157,
            "bin_end": 348598183,
            "count": 2
           }
          ]
         }
        },
        {
         "name": "text",
         "dtype": "object",
         "stats": {
          "unique_count": 5,
          "nan_count": 0,
          "categories": [
           {
            "name": "which may contain more details",
            "count": 1
           },
           {
            "name": "Regardless, the point is that I am willing to see what information you have to add to the article.  I'd rather not have my contributions be stricken by a lurker simply because you don't like me or whatever personal reason you can concoct.  Please, contribute positively to the article or butt-out and mind your business.",
            "count": 1
           },
           {
            "name": "3 others",
            "count": 3
           }
          ]
         }
        },
        {
         "name": "afinn",
         "dtype": "float64",
         "stats": {
          "unique_count": 5,
          "nan_count": 0,
          "min": "-15.0",
          "max": "3.0",
          "histogram": [
           {
            "bin_start": -15,
            "bin_end": -13.2,
            "count": 1
           },
           {
            "bin_start": -13.2,
            "bin_end": -11.4,
            "count": 0
           },
           {
            "bin_start": -11.4,
            "bin_end": -9.6,
            "count": 0
           },
           {
            "bin_start": -9.6,
            "bin_end": -7.8,
            "count": 0
           },
           {
            "bin_start": -7.8,
            "bin_end": -6,
            "count": 0
           },
           {
            "bin_start": -6,
            "bin_end": -4.199999999999999,
            "count": 1
           },
           {
            "bin_start": -4.199999999999999,
            "bin_end": -2.4000000000000004,
            "count": 1
           },
           {
            "bin_start": -2.4000000000000004,
            "bin_end": -0.5999999999999996,
            "count": 0
           },
           {
            "bin_start": -0.5999999999999996,
            "bin_end": 1.1999999999999993,
            "count": 1
           },
           {
            "bin_start": 1.1999999999999993,
            "bin_end": 3,
            "count": 1
           }
          ]
         }
        },
        {
         "name": "you_count",
         "dtype": "int64",
         "stats": {
          "unique_count": 2,
          "nan_count": 0,
          "min": "0",
          "max": "4",
          "histogram": [
           {
            "bin_start": 0,
            "bin_end": 0.4,
            "count": 4
           },
           {
            "bin_start": 0.4,
            "bin_end": 0.8,
            "count": 0
           },
           {
            "bin_start": 0.8,
            "bin_end": 1.2000000000000002,
            "count": 0
           },
           {
            "bin_start": 1.2000000000000002,
            "bin_end": 1.6,
            "count": 0
           },
           {
            "bin_start": 1.6,
            "bin_end": 2,
            "count": 0
           },
           {
            "bin_start": 2,
            "bin_end": 2.4000000000000004,
            "count": 0
           },
           {
            "bin_start": 2.4000000000000004,
            "bin_end": 2.8000000000000003,
            "count": 0
           },
           {
            "bin_start": 2.8000000000000003,
            "bin_end": 3.2,
            "count": 0
           },
           {
            "bin_start": 3.2,
            "bin_end": 3.6,
            "count": 0
           },
           {
            "bin_start": 3.6,
            "bin_end": 4,
            "count": 1
           }
          ]
         }
        },
        {
         "name": "caps_word_count",
         "dtype": "int64",
         "stats": {
          "unique_count": 1,
          "nan_count": 0,
          "min": "0",
          "max": "0",
          "histogram": [
           {
            "bin_start": -0.5,
            "bin_end": -0.4,
            "count": 0
           },
           {
            "bin_start": -0.4,
            "bin_end": -0.3,
            "count": 0
           },
           {
            "bin_start": -0.3,
            "bin_end": -0.19999999999999996,
            "count": 0
           },
           {
            "bin_start": -0.19999999999999996,
            "bin_end": -0.09999999999999998,
            "count": 0
           },
           {
            "bin_start": -0.09999999999999998,
            "bin_end": 0,
            "count": 0
           },
           {
            "bin_start": 0,
            "bin_end": 0.10000000000000009,
            "count": 5
           },
           {
            "bin_start": 0.10000000000000009,
            "bin_end": 0.20000000000000007,
            "count": 0
           },
           {
            "bin_start": 0.20000000000000007,
            "bin_end": 0.30000000000000004,
            "count": 0
           },
           {
            "bin_start": 0.30000000000000004,
            "bin_end": 0.4,
            "count": 0
           },
           {
            "bin_start": 0.4,
            "bin_end": 0.5,
            "count": 0
           }
          ]
         }
        },
        {
         "name": "digits_count",
         "dtype": "int64",
         "stats": {
          "unique_count": 2,
          "nan_count": 0,
          "min": "0",
          "max": "1",
          "histogram": [
           {
            "bin_start": 0,
            "bin_end": 0.1,
            "count": 4
           },
           {
            "bin_start": 0.1,
            "bin_end": 0.2,
            "count": 0
           },
           {
            "bin_start": 0.2,
            "bin_end": 0.30000000000000004,
            "count": 0
           },
           {
            "bin_start": 0.30000000000000004,
            "bin_end": 0.4,
            "count": 0
           },
           {
            "bin_start": 0.4,
            "bin_end": 0.5,
            "count": 0
           },
           {
            "bin_start": 0.5,
            "bin_end": 0.6000000000000001,
            "count": 0
           },
           {
            "bin_start": 0.6000000000000001,
            "bin_end": 0.7000000000000001,
            "count": 0
           },
           {
            "bin_start": 0.7000000000000001,
            "bin_end": 0.8,
            "count": 0
           },
           {
            "bin_start": 0.8,
            "bin_end": 0.9,
            "count": 0
           },
           {
            "bin_start": 0.9,
            "bin_end": 1,
            "count": 1
           }
          ]
         }
        },
        {
         "name": "dale_chall",
         "dtype": "float64",
         "stats": {
          "unique_count": 5,
          "nan_count": 0,
          "min": "6.83",
          "max": "10.2",
          "histogram": [
           {
            "bin_start": 6.83,
            "bin_end": 7.167,
            "count": 1
           },
           {
            "bin_start": 7.167,
            "bin_end": 7.504,
            "count": 0
           },
           {
            "bin_start": 7.504,
            "bin_end": 7.840999999999999,
            "count": 1
           },
           {
            "bin_start": 7.840999999999999,
            "bin_end": 8.177999999999999,
            "count": 0
           },
           {
            "bin_start": 8.177999999999999,
            "bin_end": 8.515,
            "count": 1
           },
           {
            "bin_start": 8.515,
            "bin_end": 8.852,
            "count": 0
           },
           {
            "bin_start": 8.852,
            "bin_end": 9.189,
            "count": 0
           },
           {
            "bin_start": 9.189,
            "bin_end": 9.526,
            "count": 0
           },
           {
            "bin_start": 9.526,
            "bin_end": 9.863,
            "count": 1
           },
           {
            "bin_start": 9.863,
            "bin_end": 10.2,
            "count": 1
           }
          ]
         }
        },
        {
         "name": "article_cnt",
         "dtype": "int64",
         "stats": {
          "unique_count": 2,
          "nan_count": 0,
          "min": "0",
          "max": "1",
          "histogram": [
           {
            "bin_start": 0,
            "bin_end": 0.1,
            "count": 4
           },
           {
            "bin_start": 0.1,
            "bin_end": 0.2,
            "count": 0
           },
           {
            "bin_start": 0.2,
            "bin_end": 0.30000000000000004,
            "count": 0
           },
           {
            "bin_start": 0.30000000000000004,
            "bin_end": 0.4,
            "count": 0
           },
           {
            "bin_start": 0.4,
            "bin_end": 0.5,
            "count": 0
           },
           {
            "bin_start": 0.5,
            "bin_end": 0.6000000000000001,
            "count": 0
           },
           {
            "bin_start": 0.6000000000000001,
            "bin_end": 0.7000000000000001,
            "count": 0
           },
           {
            "bin_start": 0.7000000000000001,
            "bin_end": 0.8,
            "count": 0
           },
           {
            "bin_start": 0.8,
            "bin_end": 0.9,
            "count": 0
           },
           {
            "bin_start": 0.9,
            "bin_end": 1,
            "count": 1
           }
          ]
         }
        },
        {
         "name": "source_cnt",
         "dtype": "int64",
         "stats": {
          "unique_count": 2,
          "nan_count": 0,
          "min": "0",
          "max": "1",
          "histogram": [
           {
            "bin_start": 0,
            "bin_end": 0.1,
            "count": 4
           },
           {
            "bin_start": 0.1,
            "bin_end": 0.2,
            "count": 0
           },
           {
            "bin_start": 0.2,
            "bin_end": 0.30000000000000004,
            "count": 0
           },
           {
            "bin_start": 0.30000000000000004,
            "bin_end": 0.4,
            "count": 0
           },
           {
            "bin_start": 0.4,
            "bin_end": 0.5,
            "count": 0
           },
           {
            "bin_start": 0.5,
            "bin_end": 0.6000000000000001,
            "count": 0
           },
           {
            "bin_start": 0.6000000000000001,
            "bin_end": 0.7000000000000001,
            "count": 0
           },
           {
            "bin_start": 0.7000000000000001,
            "bin_end": 0.8,
            "count": 0
           },
           {
            "bin_start": 0.8,
            "bin_end": 0.9,
            "count": 0
           },
           {
            "bin_start": 0.9,
            "bin_end": 1,
            "count": 1
           }
          ]
         }
        },
        {
         "name": "fu**_cnt",
         "dtype": "int64",
         "stats": {
          "unique_count": 1,
          "nan_count": 0,
          "min": "0",
          "max": "0",
          "histogram": [
           {
            "bin_start": -0.5,
            "bin_end": -0.4,
            "count": 0
           },
           {
            "bin_start": -0.4,
            "bin_end": -0.3,
            "count": 0
           },
           {
            "bin_start": -0.3,
            "bin_end": -0.19999999999999996,
            "count": 0
           },
           {
            "bin_start": -0.19999999999999996,
            "bin_end": -0.09999999999999998,
            "count": 0
           },
           {
            "bin_start": -0.09999999999999998,
            "bin_end": 0,
            "count": 0
           },
           {
            "bin_start": 0,
            "bin_end": 0.10000000000000009,
            "count": 5
           },
           {
            "bin_start": 0.10000000000000009,
            "bin_end": 0.20000000000000007,
            "count": 0
           },
           {
            "bin_start": 0.20000000000000007,
            "bin_end": 0.30000000000000004,
            "count": 0
           },
           {
            "bin_start": 0.30000000000000004,
            "bin_end": 0.4,
            "count": 0
           },
           {
            "bin_start": 0.4,
            "bin_end": 0.5,
            "count": 0
           }
          ]
         }
        },
        {
         "name": "f*g_cnt",
         "dtype": "int64",
         "stats": {
          "unique_count": 1,
          "nan_count": 0,
          "min": "0",
          "max": "0",
          "histogram": [
           {
            "bin_start": -0.5,
            "bin_end": -0.4,
            "count": 0
           },
           {
            "bin_start": -0.4,
            "bin_end": -0.3,
            "count": 0
           },
           {
            "bin_start": -0.3,
            "bin_end": -0.19999999999999996,
            "count": 0
           },
           {
            "bin_start": -0.19999999999999996,
            "bin_end": -0.09999999999999998,
            "count": 0
           },
           {
            "bin_start": -0.09999999999999998,
            "bin_end": 0,
            "count": 0
           },
           {
            "bin_start": 0,
            "bin_end": 0.10000000000000009,
            "count": 5
           },
           {
            "bin_start": 0.10000000000000009,
            "bin_end": 0.20000000000000007,
            "count": 0
           },
           {
            "bin_start": 0.20000000000000007,
            "bin_end": 0.30000000000000004,
            "count": 0
           },
           {
            "bin_start": 0.30000000000000004,
            "bin_end": 0.4,
            "count": 0
           },
           {
            "bin_start": 0.4,
            "bin_end": 0.5,
            "count": 0
           }
          ]
         }
        },
        {
         "name": "n***_cnt",
         "dtype": "int64",
         "stats": {
          "unique_count": 1,
          "nan_count": 0,
          "min": "0",
          "max": "0",
          "histogram": [
           {
            "bin_start": -0.5,
            "bin_end": -0.4,
            "count": 0
           },
           {
            "bin_start": -0.4,
            "bin_end": -0.3,
            "count": 0
           },
           {
            "bin_start": -0.3,
            "bin_end": -0.19999999999999996,
            "count": 0
           },
           {
            "bin_start": -0.19999999999999996,
            "bin_end": -0.09999999999999998,
            "count": 0
           },
           {
            "bin_start": -0.09999999999999998,
            "bin_end": 0,
            "count": 0
           },
           {
            "bin_start": 0,
            "bin_end": 0.10000000000000009,
            "count": 5
           },
           {
            "bin_start": 0.10000000000000009,
            "bin_end": 0.20000000000000007,
            "count": 0
           },
           {
            "bin_start": 0.20000000000000007,
            "bin_end": 0.30000000000000004,
            "count": 0
           },
           {
            "bin_start": 0.30000000000000004,
            "bin_end": 0.4,
            "count": 0
           },
           {
            "bin_start": 0.4,
            "bin_end": 0.5,
            "count": 0
           }
          ]
         }
        },
        {
         "name": "REDIRECT_count",
         "dtype": "int64",
         "stats": {
          "unique_count": 1,
          "nan_count": 0,
          "min": "0",
          "max": "0",
          "histogram": [
           {
            "bin_start": -0.5,
            "bin_end": -0.4,
            "count": 0
           },
           {
            "bin_start": -0.4,
            "bin_end": -0.3,
            "count": 0
           },
           {
            "bin_start": -0.3,
            "bin_end": -0.19999999999999996,
            "count": 0
           },
           {
            "bin_start": -0.19999999999999996,
            "bin_end": -0.09999999999999998,
            "count": 0
           },
           {
            "bin_start": -0.09999999999999998,
            "bin_end": 0,
            "count": 0
           },
           {
            "bin_start": 0,
            "bin_end": 0.10000000000000009,
            "count": 5
           },
           {
            "bin_start": 0.10000000000000009,
            "bin_end": 0.20000000000000007,
            "count": 0
           },
           {
            "bin_start": 0.20000000000000007,
            "bin_end": 0.30000000000000004,
            "count": 0
           },
           {
            "bin_start": 0.30000000000000004,
            "bin_end": 0.4,
            "count": 0
           },
           {
            "bin_start": 0.4,
            "bin_end": 0.5,
            "count": 0
           }
          ]
         }
        },
        {
         "name": "attack",
         "dtype": "int64",
         "stats": {
          "unique_count": 2,
          "nan_count": 0,
          "min": "0",
          "max": "1",
          "histogram": [
           {
            "bin_start": 0,
            "bin_end": 0.1,
            "count": 3
           },
           {
            "bin_start": 0.1,
            "bin_end": 0.2,
            "count": 0
           },
           {
            "bin_start": 0.2,
            "bin_end": 0.30000000000000004,
            "count": 0
           },
           {
            "bin_start": 0.30000000000000004,
            "bin_end": 0.4,
            "count": 0
           },
           {
            "bin_start": 0.4,
            "bin_end": 0.5,
            "count": 0
           },
           {
            "bin_start": 0.5,
            "bin_end": 0.6000000000000001,
            "count": 0
           },
           {
            "bin_start": 0.6000000000000001,
            "bin_end": 0.7000000000000001,
            "count": 0
           },
           {
            "bin_start": 0.7000000000000001,
            "bin_end": 0.8,
            "count": 0
           },
           {
            "bin_start": 0.8,
            "bin_end": 0.9,
            "count": 0
           },
           {
            "bin_start": 0.9,
            "bin_end": 1,
            "count": 2
           }
          ]
         }
        },
        {
         "name": "len",
         "dtype": "int64",
         "stats": {
          "unique_count": 5,
          "nan_count": 0,
          "min": "30",
          "max": "372",
          "histogram": [
           {
            "bin_start": 30,
            "bin_end": 64.2,
            "count": 1
           },
           {
            "bin_start": 64.2,
            "bin_end": 98.4,
            "count": 0
           },
           {
            "bin_start": 98.4,
            "bin_end": 132.60000000000002,
            "count": 0
           },
           {
            "bin_start": 132.60000000000002,
            "bin_end": 166.8,
            "count": 1
           },
           {
            "bin_start": 166.8,
            "bin_end": 201,
            "count": 1
           },
           {
            "bin_start": 201,
            "bin_end": 235.20000000000002,
            "count": 0
           },
           {
            "bin_start": 235.20000000000002,
            "bin_end": 269.40000000000003,
            "count": 0
           },
           {
            "bin_start": 269.40000000000003,
            "bin_end": 303.6,
            "count": 0
           },
           {
            "bin_start": 303.6,
            "bin_end": 337.8,
            "count": 1
           },
           {
            "bin_start": 337.8,
            "bin_end": 372,
            "count": 1
           }
          ]
         }
        },
        {
         "name": "_deepnote_index_column",
         "dtype": "int64"
        }
       ],
       "rows_top": [
        {
         "id": 348598183,
         "text": "which may contain more details",
         "afinn": 0,
         "you_count": 0,
         "caps_word_count": 0,
         "digits_count": 0,
         "dale_chall": 10.2,
         "article_cnt": 0,
         "source_cnt": 0,
         "fu**_cnt": 0,
         "f*g_cnt": 0,
         "n***_cnt": 0,
         "REDIRECT_count": 0,
         "attack": 0,
         "len": 30,
         "_deepnote_index_column": 0
        },
        {
         "id": 61527923,
         "text": "Regardless, the point is that I am willing to see what information you have to add to the article.  I'd rather not have my contributions be stricken by a lurker simply because you don't like me or whatever personal reason you can concoct.  Please, contribute positively to the article or butt-out and mind your business.",
         "afinn": 3,
         "you_count": 4,
         "caps_word_count": 0,
         "digits_count": 0,
         "dale_chall": 9.81,
         "article_cnt": 1,
         "source_cnt": 0,
         "fu**_cnt": 0,
         "f*g_cnt": 0,
         "n***_cnt": 0,
         "REDIRECT_count": 0,
         "attack": 1,
         "len": 320,
         "_deepnote_index_column": 1
        },
        {
         "id": 325989249,
         "text": "Lede  \nI'm reverting (again) the additions to the lede on ``controversies``. It (a) gives undue weight to some very old controversies and (b) is wrong - Amway was not found guilty of criminal tax evasion nor of copyright versions. In the Canadian case they pleaded guilty to settle the case, and in the second Amway settled a case that was against distributors, not Amway.",
         "afinn": -15,
         "you_count": 0,
         "caps_word_count": 0,
         "digits_count": 0,
         "dale_chall": 7.69,
         "article_cnt": 0,
         "source_cnt": 0,
         "fu**_cnt": 0,
         "f*g_cnt": 0,
         "n***_cnt": 0,
         "REDIRECT_count": 0,
         "attack": 0,
         "len": 372,
         "_deepnote_index_column": 2
        },
        {
         "id": 197250961,
         "text": "I just came to this page and was wondering why there is no ``Criticism`` or ``Controversy`` tab for me to click on at the top, I am aware her life is a source of controversy why can't I read about it",
         "afinn": -5,
         "you_count": 0,
         "caps_word_count": 0,
         "digits_count": 0,
         "dale_chall": 6.83,
         "article_cnt": 0,
         "source_cnt": 1,
         "fu**_cnt": 0,
         "f*g_cnt": 0,
         "n***_cnt": 0,
         "REDIRECT_count": 0,
         "attack": 0,
         "len": 199,
         "_deepnote_index_column": 3
        },
        {
         "id": 116195271,
         "text": "It's worth having an illustration.  The Type 2 picture, however, is frankly very shitty.  It's blurry and doesn't impart any information.  /)",
         "afinn": -3,
         "you_count": 0,
         "caps_word_count": 0,
         "digits_count": 1,
         "dale_chall": 8.44,
         "article_cnt": 0,
         "source_cnt": 0,
         "fu**_cnt": 0,
         "f*g_cnt": 0,
         "n***_cnt": 0,
         "REDIRECT_count": 0,
         "attack": 1,
         "len": 141,
         "_deepnote_index_column": 4
        }
       ],
       "rows_bottom": null
      },
      "text/plain": "          id                                               text  afinn  \\\n0  348598183                     which may contain more details    0.0   \n1   61527923  Regardless, the point is that I am willing to ...    3.0   \n2  325989249  Lede  \\nI'm reverting (again) the additions to...  -15.0   \n3  197250961  I just came to this page and was wondering why...   -5.0   \n4  116195271  It's worth having an illustration.  The Type 2...   -3.0   \n\n   you_count  caps_word_count  digits_count  dale_chall  article_cnt  \\\n0          0                0             0       10.20            0   \n1          4                0             0        9.81            1   \n2          0                0             0        7.69            0   \n3          0                0             0        6.83            0   \n4          0                0             1        8.44            0   \n\n   source_cnt  fu**_cnt  f*g_cnt  n***_cnt  REDIRECT_count  attack  len  \n0           0         0        0         0               0       0   30  \n1           0         0        0         0               0       1  320  \n2           0         0        0         0               0       0  372  \n3           1         0        0         0               0       0  199  \n4           0         0        0         0               0       1  141  ",
      "text/html": "<div>\n<style scoped>\n    .dataframe tbody tr th:only-of-type {\n        vertical-align: middle;\n    }\n\n    .dataframe tbody tr th {\n        vertical-align: top;\n    }\n\n    .dataframe thead th {\n        text-align: right;\n    }\n</style>\n<table border=\"1\" class=\"dataframe\">\n  <thead>\n    <tr style=\"text-align: right;\">\n      <th></th>\n      <th>id</th>\n      <th>text</th>\n      <th>afinn</th>\n      <th>you_count</th>\n      <th>caps_word_count</th>\n      <th>digits_count</th>\n      <th>dale_chall</th>\n      <th>article_cnt</th>\n      <th>source_cnt</th>\n      <th>fu**_cnt</th>\n      <th>f*g_cnt</th>\n      <th>n***_cnt</th>\n      <th>REDIRECT_count</th>\n      <th>attack</th>\n      <th>len</th>\n    </tr>\n  </thead>\n  <tbody>\n    <tr>\n      <th>0</th>\n      <td>348598183</td>\n      <td>which may contain more details</td>\n      <td>0.0</td>\n      <td>0</td>\n      <td>0</td>\n      <td>0</td>\n      <td>10.20</td>\n      <td>0</td>\n      <td>0</td>\n      <td>0</td>\n      <td>0</td>\n      <td>0</td>\n      <td>0</td>\n      <td>0</td>\n      <td>30</td>\n    </tr>\n    <tr>\n      <th>1</th>\n      <td>61527923</td>\n      <td>Regardless, the point is that I am willing to ...</td>\n      <td>3.0</td>\n      <td>4</td>\n      <td>0</td>\n      <td>0</td>\n      <td>9.81</td>\n      <td>1</td>\n      <td>0</td>\n      <td>0</td>\n      <td>0</td>\n      <td>0</td>\n      <td>0</td>\n      <td>1</td>\n      <td>320</td>\n    </tr>\n    <tr>\n      <th>2</th>\n      <td>325989249</td>\n      <td>Lede  \\nI'm reverting (again) the additions to...</td>\n      <td>-15.0</td>\n      <td>0</td>\n      <td>0</td>\n      <td>0</td>\n      <td>7.69</td>\n      <td>0</td>\n      <td>0</td>\n      <td>0</td>\n      <td>0</td>\n      <td>0</td>\n      <td>0</td>\n      <td>0</td>\n      <td>372</td>\n    </tr>\n    <tr>\n      <th>3</th>\n      <td>197250961</td>\n      <td>I just came to this page and was wondering why...</td>\n      <td>-5.0</td>\n      <td>0</td>\n      <td>0</td>\n      <td>0</td>\n      <td>6.83</td>\n      <td>0</td>\n      <td>1</td>\n      <td>0</td>\n      <td>0</td>\n      <td>0</td>\n      <td>0</td>\n      <td>0</td>\n      <td>199</td>\n    </tr>\n    <tr>\n      <th>4</th>\n      <td>116195271</td>\n      <td>It's worth having an illustration.  The Type 2...</td>\n      <td>-3.0</td>\n      <td>0</td>\n      <td>0</td>\n      <td>1</td>\n      <td>8.44</td>\n      <td>0</td>\n      <td>0</td>\n      <td>0</td>\n      <td>0</td>\n      <td>0</td>\n      <td>0</td>\n      <td>1</td>\n      <td>141</td>\n    </tr>\n  </tbody>\n</table>\n</div>"
     },
     "metadata": {}
    }
   ]
  },
  {
   "cell_type": "markdown",
   "source": "## Checking Translated Data",
   "metadata": {
    "tags": [],
    "cell_id": "00004-d0834f8c-d84c-40ec-a9a8-4b9d2917c1db",
    "deepnote_cell_type": "text-cell-h2"
   }
  },
  {
   "cell_type": "code",
   "metadata": {
    "tags": [],
    "cell_id": "00005-3dde6994-490e-4d35-8474-e03a9fb14d79",
    "deepnote_to_be_reexecuted": false,
    "source_hash": "f1417f07",
    "execution_start": 1621513359797,
    "execution_millis": 2,
    "deepnote_cell_type": "code"
   },
   "source": "import sys\nsys.path.insert(0, '../src')\n\nimport texthero as hero\nfrom wordcloud import WordCloud\nimport matplotlib.pyplot as plt\n\nimport config\nfrom preprocess import translate_text",
   "execution_count": 11,
   "outputs": []
  },
  {
   "cell_type": "code",
   "metadata": {
    "tags": [],
    "cell_id": "00005-8a946214-0063-4edb-828e-4ab876825fb4",
    "deepnote_to_be_reexecuted": false,
    "source_hash": "349e67f1",
    "execution_start": 1621513371772,
    "execution_millis": 3165,
    "deepnote_cell_type": "code"
   },
   "source": "train['translated'] = train.text.apply(translate_text)\ntrain.head()",
   "execution_count": 12,
   "outputs": [
    {
     "output_type": "execute_result",
     "execution_count": 12,
     "data": {
      "application/vnd.deepnote.dataframe.v2+json": {
       "row_count": 5,
       "column_count": 16,
       "columns": [
        {
         "name": "id",
         "dtype": "int64",
         "stats": {
          "unique_count": 5,
          "nan_count": 0,
          "min": "61527923",
          "max": "348598183",
          "histogram": [
           {
            "bin_start": 61527923,
            "bin_end": 90234949,
            "count": 1
           },
           {
            "bin_start": 90234949,
            "bin_end": 118941975,
            "count": 1
           },
           {
            "bin_start": 118941975,
            "bin_end": 147649001,
            "count": 0
           },
           {
            "bin_start": 147649001,
            "bin_end": 176356027,
            "count": 0
           },
           {
            "bin_start": 176356027,
            "bin_end": 205063053,
            "count": 1
           },
           {
            "bin_start": 205063053,
            "bin_end": 233770079,
            "count": 0
           },
           {
            "bin_start": 233770079,
            "bin_end": 262477105,
            "count": 0
           },
           {
            "bin_start": 262477105,
            "bin_end": 291184131,
            "count": 0
           },
           {
            "bin_start": 291184131,
            "bin_end": 319891157,
            "count": 0
           },
           {
            "bin_start": 319891157,
            "bin_end": 348598183,
            "count": 2
           }
          ]
         }
        },
        {
         "name": "text",
         "dtype": "object",
         "stats": {
          "unique_count": 5,
          "nan_count": 0,
          "categories": [
           {
            "name": "which may contain more details",
            "count": 1
           },
           {
            "name": "Regardless, the point is that I am willing to see what information you have to add to the article.  I'd rather not have my contributions be stricken by a lurker simply because you don't like me or whatever personal reason you can concoct.  Please, contribute positively to the article or butt-out and mind your business.",
            "count": 1
           },
           {
            "name": "3 others",
            "count": 3
           }
          ]
         }
        },
        {
         "name": "afinn",
         "dtype": "float64",
         "stats": {
          "unique_count": 5,
          "nan_count": 0,
          "min": "-15.0",
          "max": "3.0",
          "histogram": [
           {
            "bin_start": -15,
            "bin_end": -13.2,
            "count": 1
           },
           {
            "bin_start": -13.2,
            "bin_end": -11.4,
            "count": 0
           },
           {
            "bin_start": -11.4,
            "bin_end": -9.6,
            "count": 0
           },
           {
            "bin_start": -9.6,
            "bin_end": -7.8,
            "count": 0
           },
           {
            "bin_start": -7.8,
            "bin_end": -6,
            "count": 0
           },
           {
            "bin_start": -6,
            "bin_end": -4.199999999999999,
            "count": 1
           },
           {
            "bin_start": -4.199999999999999,
            "bin_end": -2.4000000000000004,
            "count": 1
           },
           {
            "bin_start": -2.4000000000000004,
            "bin_end": -0.5999999999999996,
            "count": 0
           },
           {
            "bin_start": -0.5999999999999996,
            "bin_end": 1.1999999999999993,
            "count": 1
           },
           {
            "bin_start": 1.1999999999999993,
            "bin_end": 3,
            "count": 1
           }
          ]
         }
        },
        {
         "name": "you_count",
         "dtype": "int64",
         "stats": {
          "unique_count": 2,
          "nan_count": 0,
          "min": "0",
          "max": "4",
          "histogram": [
           {
            "bin_start": 0,
            "bin_end": 0.4,
            "count": 4
           },
           {
            "bin_start": 0.4,
            "bin_end": 0.8,
            "count": 0
           },
           {
            "bin_start": 0.8,
            "bin_end": 1.2000000000000002,
            "count": 0
           },
           {
            "bin_start": 1.2000000000000002,
            "bin_end": 1.6,
            "count": 0
           },
           {
            "bin_start": 1.6,
            "bin_end": 2,
            "count": 0
           },
           {
            "bin_start": 2,
            "bin_end": 2.4000000000000004,
            "count": 0
           },
           {
            "bin_start": 2.4000000000000004,
            "bin_end": 2.8000000000000003,
            "count": 0
           },
           {
            "bin_start": 2.8000000000000003,
            "bin_end": 3.2,
            "count": 0
           },
           {
            "bin_start": 3.2,
            "bin_end": 3.6,
            "count": 0
           },
           {
            "bin_start": 3.6,
            "bin_end": 4,
            "count": 1
           }
          ]
         }
        },
        {
         "name": "caps_word_count",
         "dtype": "int64",
         "stats": {
          "unique_count": 1,
          "nan_count": 0,
          "min": "0",
          "max": "0",
          "histogram": [
           {
            "bin_start": -0.5,
            "bin_end": -0.4,
            "count": 0
           },
           {
            "bin_start": -0.4,
            "bin_end": -0.3,
            "count": 0
           },
           {
            "bin_start": -0.3,
            "bin_end": -0.19999999999999996,
            "count": 0
           },
           {
            "bin_start": -0.19999999999999996,
            "bin_end": -0.09999999999999998,
            "count": 0
           },
           {
            "bin_start": -0.09999999999999998,
            "bin_end": 0,
            "count": 0
           },
           {
            "bin_start": 0,
            "bin_end": 0.10000000000000009,
            "count": 5
           },
           {
            "bin_start": 0.10000000000000009,
            "bin_end": 0.20000000000000007,
            "count": 0
           },
           {
            "bin_start": 0.20000000000000007,
            "bin_end": 0.30000000000000004,
            "count": 0
           },
           {
            "bin_start": 0.30000000000000004,
            "bin_end": 0.4,
            "count": 0
           },
           {
            "bin_start": 0.4,
            "bin_end": 0.5,
            "count": 0
           }
          ]
         }
        },
        {
         "name": "digits_count",
         "dtype": "int64",
         "stats": {
          "unique_count": 2,
          "nan_count": 0,
          "min": "0",
          "max": "1",
          "histogram": [
           {
            "bin_start": 0,
            "bin_end": 0.1,
            "count": 4
           },
           {
            "bin_start": 0.1,
            "bin_end": 0.2,
            "count": 0
           },
           {
            "bin_start": 0.2,
            "bin_end": 0.30000000000000004,
            "count": 0
           },
           {
            "bin_start": 0.30000000000000004,
            "bin_end": 0.4,
            "count": 0
           },
           {
            "bin_start": 0.4,
            "bin_end": 0.5,
            "count": 0
           },
           {
            "bin_start": 0.5,
            "bin_end": 0.6000000000000001,
            "count": 0
           },
           {
            "bin_start": 0.6000000000000001,
            "bin_end": 0.7000000000000001,
            "count": 0
           },
           {
            "bin_start": 0.7000000000000001,
            "bin_end": 0.8,
            "count": 0
           },
           {
            "bin_start": 0.8,
            "bin_end": 0.9,
            "count": 0
           },
           {
            "bin_start": 0.9,
            "bin_end": 1,
            "count": 1
           }
          ]
         }
        },
        {
         "name": "dale_chall",
         "dtype": "float64",
         "stats": {
          "unique_count": 5,
          "nan_count": 0,
          "min": "6.83",
          "max": "10.2",
          "histogram": [
           {
            "bin_start": 6.83,
            "bin_end": 7.167,
            "count": 1
           },
           {
            "bin_start": 7.167,
            "bin_end": 7.504,
            "count": 0
           },
           {
            "bin_start": 7.504,
            "bin_end": 7.840999999999999,
            "count": 1
           },
           {
            "bin_start": 7.840999999999999,
            "bin_end": 8.177999999999999,
            "count": 0
           },
           {
            "bin_start": 8.177999999999999,
            "bin_end": 8.515,
            "count": 1
           },
           {
            "bin_start": 8.515,
            "bin_end": 8.852,
            "count": 0
           },
           {
            "bin_start": 8.852,
            "bin_end": 9.189,
            "count": 0
           },
           {
            "bin_start": 9.189,
            "bin_end": 9.526,
            "count": 0
           },
           {
            "bin_start": 9.526,
            "bin_end": 9.863,
            "count": 1
           },
           {
            "bin_start": 9.863,
            "bin_end": 10.2,
            "count": 1
           }
          ]
         }
        },
        {
         "name": "article_cnt",
         "dtype": "int64",
         "stats": {
          "unique_count": 2,
          "nan_count": 0,
          "min": "0",
          "max": "1",
          "histogram": [
           {
            "bin_start": 0,
            "bin_end": 0.1,
            "count": 4
           },
           {
            "bin_start": 0.1,
            "bin_end": 0.2,
            "count": 0
           },
           {
            "bin_start": 0.2,
            "bin_end": 0.30000000000000004,
            "count": 0
           },
           {
            "bin_start": 0.30000000000000004,
            "bin_end": 0.4,
            "count": 0
           },
           {
            "bin_start": 0.4,
            "bin_end": 0.5,
            "count": 0
           },
           {
            "bin_start": 0.5,
            "bin_end": 0.6000000000000001,
            "count": 0
           },
           {
            "bin_start": 0.6000000000000001,
            "bin_end": 0.7000000000000001,
            "count": 0
           },
           {
            "bin_start": 0.7000000000000001,
            "bin_end": 0.8,
            "count": 0
           },
           {
            "bin_start": 0.8,
            "bin_end": 0.9,
            "count": 0
           },
           {
            "bin_start": 0.9,
            "bin_end": 1,
            "count": 1
           }
          ]
         }
        },
        {
         "name": "source_cnt",
         "dtype": "int64",
         "stats": {
          "unique_count": 2,
          "nan_count": 0,
          "min": "0",
          "max": "1",
          "histogram": [
           {
            "bin_start": 0,
            "bin_end": 0.1,
            "count": 4
           },
           {
            "bin_start": 0.1,
            "bin_end": 0.2,
            "count": 0
           },
           {
            "bin_start": 0.2,
            "bin_end": 0.30000000000000004,
            "count": 0
           },
           {
            "bin_start": 0.30000000000000004,
            "bin_end": 0.4,
            "count": 0
           },
           {
            "bin_start": 0.4,
            "bin_end": 0.5,
            "count": 0
           },
           {
            "bin_start": 0.5,
            "bin_end": 0.6000000000000001,
            "count": 0
           },
           {
            "bin_start": 0.6000000000000001,
            "bin_end": 0.7000000000000001,
            "count": 0
           },
           {
            "bin_start": 0.7000000000000001,
            "bin_end": 0.8,
            "count": 0
           },
           {
            "bin_start": 0.8,
            "bin_end": 0.9,
            "count": 0
           },
           {
            "bin_start": 0.9,
            "bin_end": 1,
            "count": 1
           }
          ]
         }
        },
        {
         "name": "fu**_cnt",
         "dtype": "int64",
         "stats": {
          "unique_count": 1,
          "nan_count": 0,
          "min": "0",
          "max": "0",
          "histogram": [
           {
            "bin_start": -0.5,
            "bin_end": -0.4,
            "count": 0
           },
           {
            "bin_start": -0.4,
            "bin_end": -0.3,
            "count": 0
           },
           {
            "bin_start": -0.3,
            "bin_end": -0.19999999999999996,
            "count": 0
           },
           {
            "bin_start": -0.19999999999999996,
            "bin_end": -0.09999999999999998,
            "count": 0
           },
           {
            "bin_start": -0.09999999999999998,
            "bin_end": 0,
            "count": 0
           },
           {
            "bin_start": 0,
            "bin_end": 0.10000000000000009,
            "count": 5
           },
           {
            "bin_start": 0.10000000000000009,
            "bin_end": 0.20000000000000007,
            "count": 0
           },
           {
            "bin_start": 0.20000000000000007,
            "bin_end": 0.30000000000000004,
            "count": 0
           },
           {
            "bin_start": 0.30000000000000004,
            "bin_end": 0.4,
            "count": 0
           },
           {
            "bin_start": 0.4,
            "bin_end": 0.5,
            "count": 0
           }
          ]
         }
        },
        {
         "name": "f*g_cnt",
         "dtype": "int64",
         "stats": {
          "unique_count": 1,
          "nan_count": 0,
          "min": "0",
          "max": "0",
          "histogram": [
           {
            "bin_start": -0.5,
            "bin_end": -0.4,
            "count": 0
           },
           {
            "bin_start": -0.4,
            "bin_end": -0.3,
            "count": 0
           },
           {
            "bin_start": -0.3,
            "bin_end": -0.19999999999999996,
            "count": 0
           },
           {
            "bin_start": -0.19999999999999996,
            "bin_end": -0.09999999999999998,
            "count": 0
           },
           {
            "bin_start": -0.09999999999999998,
            "bin_end": 0,
            "count": 0
           },
           {
            "bin_start": 0,
            "bin_end": 0.10000000000000009,
            "count": 5
           },
           {
            "bin_start": 0.10000000000000009,
            "bin_end": 0.20000000000000007,
            "count": 0
           },
           {
            "bin_start": 0.20000000000000007,
            "bin_end": 0.30000000000000004,
            "count": 0
           },
           {
            "bin_start": 0.30000000000000004,
            "bin_end": 0.4,
            "count": 0
           },
           {
            "bin_start": 0.4,
            "bin_end": 0.5,
            "count": 0
           }
          ]
         }
        },
        {
         "name": "n***_cnt",
         "dtype": "int64",
         "stats": {
          "unique_count": 1,
          "nan_count": 0,
          "min": "0",
          "max": "0",
          "histogram": [
           {
            "bin_start": -0.5,
            "bin_end": -0.4,
            "count": 0
           },
           {
            "bin_start": -0.4,
            "bin_end": -0.3,
            "count": 0
           },
           {
            "bin_start": -0.3,
            "bin_end": -0.19999999999999996,
            "count": 0
           },
           {
            "bin_start": -0.19999999999999996,
            "bin_end": -0.09999999999999998,
            "count": 0
           },
           {
            "bin_start": -0.09999999999999998,
            "bin_end": 0,
            "count": 0
           },
           {
            "bin_start": 0,
            "bin_end": 0.10000000000000009,
            "count": 5
           },
           {
            "bin_start": 0.10000000000000009,
            "bin_end": 0.20000000000000007,
            "count": 0
           },
           {
            "bin_start": 0.20000000000000007,
            "bin_end": 0.30000000000000004,
            "count": 0
           },
           {
            "bin_start": 0.30000000000000004,
            "bin_end": 0.4,
            "count": 0
           },
           {
            "bin_start": 0.4,
            "bin_end": 0.5,
            "count": 0
           }
          ]
         }
        },
        {
         "name": "REDIRECT_count",
         "dtype": "int64",
         "stats": {
          "unique_count": 1,
          "nan_count": 0,
          "min": "0",
          "max": "0",
          "histogram": [
           {
            "bin_start": -0.5,
            "bin_end": -0.4,
            "count": 0
           },
           {
            "bin_start": -0.4,
            "bin_end": -0.3,
            "count": 0
           },
           {
            "bin_start": -0.3,
            "bin_end": -0.19999999999999996,
            "count": 0
           },
           {
            "bin_start": -0.19999999999999996,
            "bin_end": -0.09999999999999998,
            "count": 0
           },
           {
            "bin_start": -0.09999999999999998,
            "bin_end": 0,
            "count": 0
           },
           {
            "bin_start": 0,
            "bin_end": 0.10000000000000009,
            "count": 5
           },
           {
            "bin_start": 0.10000000000000009,
            "bin_end": 0.20000000000000007,
            "count": 0
           },
           {
            "bin_start": 0.20000000000000007,
            "bin_end": 0.30000000000000004,
            "count": 0
           },
           {
            "bin_start": 0.30000000000000004,
            "bin_end": 0.4,
            "count": 0
           },
           {
            "bin_start": 0.4,
            "bin_end": 0.5,
            "count": 0
           }
          ]
         }
        },
        {
         "name": "attack",
         "dtype": "int64",
         "stats": {
          "unique_count": 2,
          "nan_count": 0,
          "min": "0",
          "max": "1",
          "histogram": [
           {
            "bin_start": 0,
            "bin_end": 0.1,
            "count": 3
           },
           {
            "bin_start": 0.1,
            "bin_end": 0.2,
            "count": 0
           },
           {
            "bin_start": 0.2,
            "bin_end": 0.30000000000000004,
            "count": 0
           },
           {
            "bin_start": 0.30000000000000004,
            "bin_end": 0.4,
            "count": 0
           },
           {
            "bin_start": 0.4,
            "bin_end": 0.5,
            "count": 0
           },
           {
            "bin_start": 0.5,
            "bin_end": 0.6000000000000001,
            "count": 0
           },
           {
            "bin_start": 0.6000000000000001,
            "bin_end": 0.7000000000000001,
            "count": 0
           },
           {
            "bin_start": 0.7000000000000001,
            "bin_end": 0.8,
            "count": 0
           },
           {
            "bin_start": 0.8,
            "bin_end": 0.9,
            "count": 0
           },
           {
            "bin_start": 0.9,
            "bin_end": 1,
            "count": 2
           }
          ]
         }
        },
        {
         "name": "len",
         "dtype": "int64",
         "stats": {
          "unique_count": 5,
          "nan_count": 0,
          "min": "30",
          "max": "372",
          "histogram": [
           {
            "bin_start": 30,
            "bin_end": 64.2,
            "count": 1
           },
           {
            "bin_start": 64.2,
            "bin_end": 98.4,
            "count": 0
           },
           {
            "bin_start": 98.4,
            "bin_end": 132.60000000000002,
            "count": 0
           },
           {
            "bin_start": 132.60000000000002,
            "bin_end": 166.8,
            "count": 1
           },
           {
            "bin_start": 166.8,
            "bin_end": 201,
            "count": 1
           },
           {
            "bin_start": 201,
            "bin_end": 235.20000000000002,
            "count": 0
           },
           {
            "bin_start": 235.20000000000002,
            "bin_end": 269.40000000000003,
            "count": 0
           },
           {
            "bin_start": 269.40000000000003,
            "bin_end": 303.6,
            "count": 0
           },
           {
            "bin_start": 303.6,
            "bin_end": 337.8,
            "count": 1
           },
           {
            "bin_start": 337.8,
            "bin_end": 372,
            "count": 1
           }
          ]
         }
        },
        {
         "name": "translated",
         "dtype": "object",
         "stats": {
          "unique_count": 5,
          "nan_count": 0,
          "categories": [
           {
            "name": "STOPWORD may contain STOPWORD details",
            "count": 1
           },
           {
            "name": "Regardless STOPWORD point STOPWORD STOPWORD I STOPWORD willing STOPWORD see STOPWORD information YOUWORD STOPWORD STOPWORD add STOPWORD STOPWORD Id rather STOPWORD STOPWORD contributions STOPWORD stricken STOPWORD STOPWORD lurker simply STOPWORD YOUWORD dont like STOPWORD STOPWORD whatever personal reason YOUWORD STOPWORD concoct Please contribute positively STOPWORD STOPWORD STOPWORD buttout STOPWORD mind YOUWORD business",
            "count": 1
           },
           {
            "name": "3 others",
            "count": 3
           }
          ]
         }
        },
        {
         "name": "_deepnote_index_column",
         "dtype": "int64"
        }
       ],
       "rows_top": [
        {
         "id": 348598183,
         "text": "which may contain more details",
         "afinn": 0,
         "you_count": 0,
         "caps_word_count": 0,
         "digits_count": 0,
         "dale_chall": 10.2,
         "article_cnt": 0,
         "source_cnt": 0,
         "fu**_cnt": 0,
         "f*g_cnt": 0,
         "n***_cnt": 0,
         "REDIRECT_count": 0,
         "attack": 0,
         "len": 30,
         "translated": "STOPWORD may contain STOPWORD details",
         "_deepnote_index_column": 0
        },
        {
         "id": 61527923,
         "text": "Regardless, the point is that I am willing to see what information you have to add to the article.  I'd rather not have my contributions be stricken by a lurker simply because you don't like me or whatever personal reason you can concoct.  Please, contribute positively to the article or butt-out and mind your business.",
         "afinn": 3,
         "you_count": 4,
         "caps_word_count": 0,
         "digits_count": 0,
         "dale_chall": 9.81,
         "article_cnt": 1,
         "source_cnt": 0,
         "fu**_cnt": 0,
         "f*g_cnt": 0,
         "n***_cnt": 0,
         "REDIRECT_count": 0,
         "attack": 1,
         "len": 320,
         "translated": "Regardless STOPWORD point STOPWORD STOPWORD I STOPWORD willing STOPWORD see STOPWORD information YOUWORD STOPWORD STOPWORD add STOPWORD STOPWORD Id rather STOPWORD STOPWORD contributions STOPWORD stricken STOPWORD STOPWORD lurker simply STOPWORD YOUWORD dont like STOPWORD STOPWORD whatever personal reason YOUWORD STOPWORD concoct Please contribute positively STOPWORD STOPWORD STOPWORD buttout STOPWORD mind YOUWORD business",
         "_deepnote_index_column": 1
        },
        {
         "id": 325989249,
         "text": "Lede  \nI'm reverting (again) the additions to the lede on ``controversies``. It (a) gives undue weight to some very old controversies and (b) is wrong - Amway was not found guilty of criminal tax evasion nor of copyright versions. In the Canadian case they pleaded guilty to settle the case, and in the second Amway settled a case that was against distributors, not Amway.",
         "afinn": -15,
         "you_count": 0,
         "caps_word_count": 0,
         "digits_count": 0,
         "dale_chall": 7.69,
         "article_cnt": 0,
         "source_cnt": 0,
         "fu**_cnt": 0,
         "f*g_cnt": 0,
         "n***_cnt": 0,
         "REDIRECT_count": 0,
         "attack": 0,
         "len": 372,
         "translated": "Lede Im reverting STOPWORD STOPWORD additions STOPWORD STOPWORD lede STOPWORD controversies It STOPWORD gives undue weight STOPWORD STOPWORD STOPWORD old controversies STOPWORD b STOPWORD wrong Amway STOPWORD found guilty STOPWORD criminal tax evasion STOPWORD STOPWORD copyright versions In STOPWORD Canadian case STOPWORD pleaded guilty STOPWORD settle STOPWORD case STOPWORD STOPWORD STOPWORD second Amway settled STOPWORD case STOPWORD STOPWORD STOPWORD distributors Amway",
         "_deepnote_index_column": 2
        },
        {
         "id": 197250961,
         "text": "I just came to this page and was wondering why there is no ``Criticism`` or ``Controversy`` tab for me to click on at the top, I am aware her life is a source of controversy why can't I read about it",
         "afinn": -5,
         "you_count": 0,
         "caps_word_count": 0,
         "digits_count": 0,
         "dale_chall": 6.83,
         "article_cnt": 0,
         "source_cnt": 1,
         "fu**_cnt": 0,
         "f*g_cnt": 0,
         "n***_cnt": 0,
         "REDIRECT_count": 0,
         "attack": 0,
         "len": 199,
         "translated": "I STOPWORD came STOPWORD STOPWORD STOPWORD STOPWORD wondering STOPWORD STOPWORD STOPWORD STOPWORD Criticism STOPWORD Controversy tab STOPWORD STOPWORD STOPWORD click STOPWORD STOPWORD STOPWORD top I STOPWORD aware STOPWORD life STOPWORD STOPWORD source STOPWORD controversy STOPWORD cant I read STOPWORD STOPWORD",
         "_deepnote_index_column": 3
        },
        {
         "id": 116195271,
         "text": "It's worth having an illustration.  The Type 2 picture, however, is frankly very shitty.  It's blurry and doesn't impart any information.  /)",
         "afinn": -3,
         "you_count": 0,
         "caps_word_count": 0,
         "digits_count": 1,
         "dale_chall": 8.44,
         "article_cnt": 0,
         "source_cnt": 0,
         "fu**_cnt": 0,
         "f*g_cnt": 0,
         "n***_cnt": 0,
         "REDIRECT_count": 0,
         "attack": 1,
         "len": 141,
         "translated": "Its worth STOPWORD STOPWORD illustration The Type 2 picture however STOPWORD frankly STOPWORD shitty Its blurry STOPWORD doesnt impart STOPWORD information",
         "_deepnote_index_column": 4
        }
       ],
       "rows_bottom": null
      },
      "text/plain": "          id                                               text  afinn  \\\n0  348598183                     which may contain more details    0.0   \n1   61527923  Regardless, the point is that I am willing to ...    3.0   \n2  325989249  Lede  \\nI'm reverting (again) the additions to...  -15.0   \n3  197250961  I just came to this page and was wondering why...   -5.0   \n4  116195271  It's worth having an illustration.  The Type 2...   -3.0   \n\n   you_count  caps_word_count  digits_count  dale_chall  article_cnt  \\\n0          0                0             0       10.20            0   \n1          4                0             0        9.81            1   \n2          0                0             0        7.69            0   \n3          0                0             0        6.83            0   \n4          0                0             1        8.44            0   \n\n   source_cnt  fu**_cnt  f*g_cnt  n***_cnt  REDIRECT_count  attack  len  \\\n0           0         0        0         0               0       0   30   \n1           0         0        0         0               0       1  320   \n2           0         0        0         0               0       0  372   \n3           1         0        0         0               0       0  199   \n4           0         0        0         0               0       1  141   \n\n                                          translated  \n0              STOPWORD may contain STOPWORD details  \n1  Regardless STOPWORD point STOPWORD STOPWORD I ...  \n2  Lede Im reverting STOPWORD STOPWORD additions ...  \n3  I STOPWORD came STOPWORD STOPWORD STOPWORD STO...  \n4  Its worth STOPWORD STOPWORD illustration The T...  ",
      "text/html": "<div>\n<style scoped>\n    .dataframe tbody tr th:only-of-type {\n        vertical-align: middle;\n    }\n\n    .dataframe tbody tr th {\n        vertical-align: top;\n    }\n\n    .dataframe thead th {\n        text-align: right;\n    }\n</style>\n<table border=\"1\" class=\"dataframe\">\n  <thead>\n    <tr style=\"text-align: right;\">\n      <th></th>\n      <th>id</th>\n      <th>text</th>\n      <th>afinn</th>\n      <th>you_count</th>\n      <th>caps_word_count</th>\n      <th>digits_count</th>\n      <th>dale_chall</th>\n      <th>article_cnt</th>\n      <th>source_cnt</th>\n      <th>fu**_cnt</th>\n      <th>f*g_cnt</th>\n      <th>n***_cnt</th>\n      <th>REDIRECT_count</th>\n      <th>attack</th>\n      <th>len</th>\n      <th>translated</th>\n    </tr>\n  </thead>\n  <tbody>\n    <tr>\n      <th>0</th>\n      <td>348598183</td>\n      <td>which may contain more details</td>\n      <td>0.0</td>\n      <td>0</td>\n      <td>0</td>\n      <td>0</td>\n      <td>10.20</td>\n      <td>0</td>\n      <td>0</td>\n      <td>0</td>\n      <td>0</td>\n      <td>0</td>\n      <td>0</td>\n      <td>0</td>\n      <td>30</td>\n      <td>STOPWORD may contain STOPWORD details</td>\n    </tr>\n    <tr>\n      <th>1</th>\n      <td>61527923</td>\n      <td>Regardless, the point is that I am willing to ...</td>\n      <td>3.0</td>\n      <td>4</td>\n      <td>0</td>\n      <td>0</td>\n      <td>9.81</td>\n      <td>1</td>\n      <td>0</td>\n      <td>0</td>\n      <td>0</td>\n      <td>0</td>\n      <td>0</td>\n      <td>1</td>\n      <td>320</td>\n      <td>Regardless STOPWORD point STOPWORD STOPWORD I ...</td>\n    </tr>\n    <tr>\n      <th>2</th>\n      <td>325989249</td>\n      <td>Lede  \\nI'm reverting (again) the additions to...</td>\n      <td>-15.0</td>\n      <td>0</td>\n      <td>0</td>\n      <td>0</td>\n      <td>7.69</td>\n      <td>0</td>\n      <td>0</td>\n      <td>0</td>\n      <td>0</td>\n      <td>0</td>\n      <td>0</td>\n      <td>0</td>\n      <td>372</td>\n      <td>Lede Im reverting STOPWORD STOPWORD additions ...</td>\n    </tr>\n    <tr>\n      <th>3</th>\n      <td>197250961</td>\n      <td>I just came to this page and was wondering why...</td>\n      <td>-5.0</td>\n      <td>0</td>\n      <td>0</td>\n      <td>0</td>\n      <td>6.83</td>\n      <td>0</td>\n      <td>1</td>\n      <td>0</td>\n      <td>0</td>\n      <td>0</td>\n      <td>0</td>\n      <td>0</td>\n      <td>199</td>\n      <td>I STOPWORD came STOPWORD STOPWORD STOPWORD STO...</td>\n    </tr>\n    <tr>\n      <th>4</th>\n      <td>116195271</td>\n      <td>It's worth having an illustration.  The Type 2...</td>\n      <td>-3.0</td>\n      <td>0</td>\n      <td>0</td>\n      <td>1</td>\n      <td>8.44</td>\n      <td>0</td>\n      <td>0</td>\n      <td>0</td>\n      <td>0</td>\n      <td>0</td>\n      <td>0</td>\n      <td>1</td>\n      <td>141</td>\n      <td>Its worth STOPWORD STOPWORD illustration The T...</td>\n    </tr>\n  </tbody>\n</table>\n</div>"
     },
     "metadata": {}
    }
   ]
  },
  {
   "cell_type": "code",
   "metadata": {
    "tags": [],
    "cell_id": "00006-63fa1023-e9a7-4c81-aff6-0584e25d5a44",
    "deepnote_to_be_reexecuted": false,
    "source_hash": "628e11d4",
    "execution_start": 1621513476200,
    "execution_millis": 4862,
    "deepnote_cell_type": "code"
   },
   "source": "words = ' '.join(train['translated'])\nwc = WordCloud().generate(words)\nplt.figure(figsize=(8,5))\nplt.imshow(wc)",
   "execution_count": 15,
   "outputs": [
    {
     "output_type": "execute_result",
     "execution_count": 15,
     "data": {
      "text/plain": "<matplotlib.image.AxesImage at 0x7fe37e12c3d0>"
     },
     "metadata": {}
    },
    {
     "data": {
      "text/plain": "<Figure size 576x360 with 1 Axes>",
      "image/png": "[encoded data removed]"
     },
     "metadata": {
      "needs_background": "light",
      "image/png": {
       "width": 486,
       "height": 258
      }
     },
     "output_type": "display_data"
    }
   ]
  },
  {
   "cell_type": "code",
   "source": "# attacks\nwords = ' '.join(train[train.attack==1]['translated'])\nwc = WordCloud().generate(words)\nplt.figure(figsize=(8,5))\nplt.imshow(wc)",
   "metadata": {
    "tags": [],
    "cell_id": "00014-1bd8de42-8fde-405d-8c4a-9b252c8b5f9f",
    "deepnote_to_be_reexecuted": false,
    "source_hash": "60a133cb",
    "execution_start": 1621513492617,
    "execution_millis": 1568,
    "deepnote_cell_type": "code"
   },
   "outputs": [
    {
     "output_type": "execute_result",
     "execution_count": 16,
     "data": {
      "text/plain": "<matplotlib.image.AxesImage at 0x7fe37ede8910>"
     },
     "metadata": {}
    },
    {
     "data": {
      "text/plain": "<Figure size 576x360 with 1 Axes>",
      "image/png": "[encoded data removed]"
     },
     "metadata": {
      "needs_background": "light",
      "image/png": {
       "width": 486,
       "height": 258
      }
     },
     "output_type": "display_data"
    }
   ],
   "execution_count": 16
  },
  {
   "cell_type": "code",
   "source": "# non attacks\nwords = ' '.join(train[train.attack==0]['translated'])\nwc = WordCloud().generate(words)\nplt.figure(figsize=(8,5))\nplt.imshow(wc)",
   "metadata": {
    "tags": [],
    "cell_id": "00015-843b7dd2-a192-43c9-b7cb-e67c8dd27dfa",
    "deepnote_to_be_reexecuted": false,
    "source_hash": "cc9fc327",
    "execution_start": 1621513518990,
    "execution_millis": 4229,
    "deepnote_cell_type": "code"
   },
   "outputs": [
    {
     "output_type": "execute_result",
     "execution_count": 17,
     "data": {
      "text/plain": "<matplotlib.image.AxesImage at 0x7fe380991110>"
     },
     "metadata": {}
    },
    {
     "data": {
      "text/plain": "<Figure size 576x360 with 1 Axes>",
      "image/png": "[encoded data removed]"
     },
     "metadata": {
      "needs_background": "light",
      "image/png": {
       "width": 486,
       "height": 258
      }
     },
     "output_type": "display_data"
    }
   ],
   "execution_count": 17
  },
  {
   "cell_type": "code",
   "metadata": {
    "tags": [],
    "cell_id": "00008-5f3222b5-0fe1-489e-b5d5-a5142c0f3bd0",
    "deepnote_to_be_reexecuted": false,
    "source_hash": "21a2b3b7",
    "execution_start": 1621513537558,
    "execution_millis": 1070,
    "deepnote_cell_type": "code"
   },
   "source": "token_frequencies = pd.DataFrame(hero.top_words(train['translated'], normalize=False))\ntoken_frequencies['word'] = token_frequencies.index\ntoken_frequencies.columns = ['frequency', 'word']\ntoken_frequencies.frequency = round(token_frequencies.frequency, 3)\ntoken_frequencies = token_frequencies.reset_index(drop=True)\n\n# unique tokens\ntokens = list(token_frequencies.word)",
   "execution_count": 18,
   "outputs": [
    {
     "name": "stderr",
     "text": "/root/venv/lib/python3.7/site-packages/texthero/visualization.py:182: FutureWarning: The default value of regex will change from True to False in a future version.\n  pattern, r\"\\2 \\3\"\n",
     "output_type": "stream"
    }
   ]
  },
  {
   "cell_type": "code",
   "source": "tokens[:10]",
   "metadata": {
    "tags": [],
    "cell_id": "00017-abc4d25d-7f5e-4ea2-8374-943c04be3df9",
    "deepnote_to_be_reexecuted": false,
    "source_hash": "bdc005a0",
    "execution_start": 1621513542587,
    "execution_millis": 6,
    "deepnote_cell_type": "code"
   },
   "outputs": [
    {
     "output_type": "execute_result",
     "execution_count": 19,
     "data": {
      "text/plain": "['STOPWORD',\n 'YOUWORD',\n 'I',\n 'The',\n 'like',\n 'would',\n 'You',\n 'Wikipedia',\n 'one',\n 'dont']"
     },
     "metadata": {}
    }
   ],
   "execution_count": 19
  },
  {
   "cell_type": "markdown",
   "source": "<a style='text-decoration:none;line-height:16px;display:flex;color:#5B5B62;padding:10px;justify-content:end;' href='https://deepnote.com?utm_source=created-in-deepnote-cell&projectId=94079369-10d1-4c3e-b7f5-859473c4f3a7' target=\"_blank\">\n<img alt='Created in deepnote.com' style='display:inline;max-height:16px;margin:0px;margin-right:7.5px;' src='data:image/svg+xml;base64,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' > </img>\nCreated in <span style='font-weight:600;margin-left:4px;'>Deepnote</span></a>",
   "metadata": {
    "tags": [],
    "created_in_deepnote_cell": true,
    "deepnote_cell_type": "markdown"
   }
  }
 ],
 "nbformat": 4,
 "nbformat_minor": 2,
 "metadata": {
  "orig_nbformat": 2,
  "deepnote": {
   "is_reactive": false
  },
  "deepnote_notebook_id": "1800e2bb-8217-46e5-b5e8-4a5124f48e26",
  "deepnote_execution_queue": []
 }
}