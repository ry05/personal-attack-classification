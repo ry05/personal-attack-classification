{
 "cells": [
  {
   "cell_type": "markdown",
   "source": "# Translating Text\n\nThis notebook is not a part of the final submission to build the model, however this is where the idea of translating text into a new language was tried and tested. Originally, the translated versions were stored as separate data files, but later on these datasets were removed. Hence, the code in this notebook might not be as neat or comprehensive as the rest of the project.\n\n**NOTE:** In a way, this idea of translation can be likened to the automated dictionary approach\n\n### Some of the ideas tested\n1. Labelling all stopwords as STOPWORD\n2. Labelling profane words (based on a list of profanity) as PROFANITY\n3. Labelling words with \"you\" as YOUWORD\n\n### Advantages of such translation\n1. Reduces space to store data for a slight decrease in performance\n2. Reinforces the social idea that, *it does not matter what word was used as long as the meaning is offensive*",
   "metadata": {
    "tags": [],
    "cell_id": "00000-65c46fdd-2d9c-486e-bfef-ec272380d206",
    "deepnote_cell_type": "markdown"
   }
  },
  {
   "cell_type": "code",
   "metadata": {
    "tags": [],
    "cell_id": "00000-f228e605-39b9-4437-ba6a-ae02819f8b2f",
    "deepnote_to_be_reexecuted": false,
    "source_hash": "c76c7c51",
    "execution_start": 1621045007622,
    "execution_millis": 1,
    "deepnote_cell_type": "code"
   },
   "source": "import pandas as pd\nimport numpy as np",
   "execution_count": null,
   "outputs": []
  },
  {
   "cell_type": "code",
   "metadata": {
    "tags": [],
    "cell_id": "00001-4e4fc743-ccfc-4cba-b059-6507ec4c94c9",
    "deepnote_to_be_reexecuted": false,
    "source_hash": "8f3179c3",
    "execution_start": 1621047942869,
    "execution_millis": 88,
    "deepnote_cell_type": "code"
   },
   "source": "df = pd.read_csv(\"../data/train.csv\")\ndf.head()",
   "execution_count": null,
   "outputs": [
    {
     "output_type": "execute_result",
     "execution_count": 12,
     "data": {
      "application/vnd.deepnote.dataframe.v2+json": {
       "row_count": 5,
       "column_count": 3,
       "columns": [
        {
         "name": "id",
         "dtype": "int64",
         "stats": {
          "unique_count": 5,
          "nan_count": 0,
          "min": "61527923",
          "max": "348598183",
          "histogram": [
           {
            "bin_start": 61527923,
            "bin_end": 90234949,
            "count": 1
           },
           {
            "bin_start": 90234949,
            "bin_end": 118941975,
            "count": 1
           },
           {
            "bin_start": 118941975,
            "bin_end": 147649001,
            "count": 0
           },
           {
            "bin_start": 147649001,
            "bin_end": 176356027,
            "count": 0
           },
           {
            "bin_start": 176356027,
            "bin_end": 205063053,
            "count": 1
           },
           {
            "bin_start": 205063053,
            "bin_end": 233770079,
            "count": 0
           },
           {
            "bin_start": 233770079,
            "bin_end": 262477105,
            "count": 0
           },
           {
            "bin_start": 262477105,
            "bin_end": 291184131,
            "count": 0
           },
           {
            "bin_start": 291184131,
            "bin_end": 319891157,
            "count": 0
           },
           {
            "bin_start": 319891157,
            "bin_end": 348598183,
            "count": 2
           }
          ]
         }
        },
        {
         "name": "attack",
         "dtype": "int64",
         "stats": {
          "unique_count": 2,
          "nan_count": 0,
          "min": "0",
          "max": "1",
          "histogram": [
           {
            "bin_start": 0,
            "bin_end": 0.1,
            "count": 3
           },
           {
            "bin_start": 0.1,
            "bin_end": 0.2,
            "count": 0
           },
           {
            "bin_start": 0.2,
            "bin_end": 0.30000000000000004,
            "count": 0
           },
           {
            "bin_start": 0.30000000000000004,
            "bin_end": 0.4,
            "count": 0
           },
           {
            "bin_start": 0.4,
            "bin_end": 0.5,
            "count": 0
           },
           {
            "bin_start": 0.5,
            "bin_end": 0.6000000000000001,
            "count": 0
           },
           {
            "bin_start": 0.6000000000000001,
            "bin_end": 0.7000000000000001,
            "count": 0
           },
           {
            "bin_start": 0.7000000000000001,
            "bin_end": 0.8,
            "count": 0
           },
           {
            "bin_start": 0.8,
            "bin_end": 0.9,
            "count": 0
           },
           {
            "bin_start": 0.9,
            "bin_end": 1,
            "count": 2
           }
          ]
         }
        },
        {
         "name": "text",
         "dtype": "object",
         "stats": {
          "unique_count": 5,
          "nan_count": 0,
          "categories": [
           {
            "name": "which may contain more details",
            "count": 1
           },
           {
            "name": "Regardless, the point is that I am willing to see what information you have to add to the article.  I'd rather not have my contributions be stricken by a lurker simply because you don't like me or whatever personal reason you can concoct.  Please, contribute positively to the article or butt-out and mind your business.",
            "count": 1
           },
           {
            "name": "3 others",
            "count": 3
           }
          ]
         }
        },
        {
         "name": "_deepnote_index_column",
         "dtype": "int64"
        }
       ],
       "rows_top": [
        {
         "id": 348598183,
         "attack": 0,
         "text": "which may contain more details",
         "_deepnote_index_column": 0
        },
        {
         "id": 61527923,
         "attack": 1,
         "text": "Regardless, the point is that I am willing to see what information you have to add to the article.  I'd rather not have my contributions be stricken by a lurker simply because you don't like me or whatever personal reason you can concoct.  Please, contribute positively to the article or butt-out and mind your business.",
         "_deepnote_index_column": 1
        },
        {
         "id": 325989249,
         "attack": 0,
         "text": "Lede  \nI'm reverting (again) the additions to the lede on ``controversies``. It (a) gives undue weight to some very old controversies and (b) is wrong - Amway was not found guilty of criminal tax evasion nor of copyright versions. In the Canadian case they pleaded guilty to settle the case, and in the second Amway settled a case that was against distributors, not Amway.",
         "_deepnote_index_column": 2
        },
        {
         "id": 197250961,
         "attack": 0,
         "text": "I just came to this page and was wondering why there is no ``Criticism`` or ``Controversy`` tab for me to click on at the top, I am aware her life is a source of controversy why can't I read about it",
         "_deepnote_index_column": 3
        },
        {
         "id": 116195271,
         "attack": 1,
         "text": "It's worth having an illustration.  The Type 2 picture, however, is frankly very shitty.  It's blurry and doesn't impart any information.  /)",
         "_deepnote_index_column": 4
        }
       ],
       "rows_bottom": null
      },
      "text/plain": "          id  attack                                               text\n0  348598183       0                     which may contain more details\n1   61527923       1  Regardless, the point is that I am willing to ...\n2  325989249       0  Lede  \\nI'm reverting (again) the additions to...\n3  197250961       0  I just came to this page and was wondering why...\n4  116195271       1  It's worth having an illustration.  The Type 2...",
      "text/html": "<div>\n<style scoped>\n    .dataframe tbody tr th:only-of-type {\n        vertical-align: middle;\n    }\n\n    .dataframe tbody tr th {\n        vertical-align: top;\n    }\n\n    .dataframe thead th {\n        text-align: right;\n    }\n</style>\n<table border=\"1\" class=\"dataframe\">\n  <thead>\n    <tr style=\"text-align: right;\">\n      <th></th>\n      <th>id</th>\n      <th>attack</th>\n      <th>text</th>\n    </tr>\n  </thead>\n  <tbody>\n    <tr>\n      <th>0</th>\n      <td>348598183</td>\n      <td>0</td>\n      <td>which may contain more details</td>\n    </tr>\n    <tr>\n      <th>1</th>\n      <td>61527923</td>\n      <td>1</td>\n      <td>Regardless, the point is that I am willing to ...</td>\n    </tr>\n    <tr>\n      <th>2</th>\n      <td>325989249</td>\n      <td>0</td>\n      <td>Lede  \\nI'm reverting (again) the additions to...</td>\n    </tr>\n    <tr>\n      <th>3</th>\n      <td>197250961</td>\n      <td>0</td>\n      <td>I just came to this page and was wondering why...</td>\n    </tr>\n    <tr>\n      <th>4</th>\n      <td>116195271</td>\n      <td>1</td>\n      <td>It's worth having an illustration.  The Type 2...</td>\n    </tr>\n  </tbody>\n</table>\n</div>"
     },
     "metadata": {}
    }
   ]
  },
  {
   "cell_type": "code",
   "metadata": {
    "tags": [],
    "cell_id": "00002-67077dbe-c9d0-4cb5-b609-f07d2a7e7d5e",
    "deepnote_to_be_reexecuted": false,
    "source_hash": "8f9b5486",
    "execution_start": 1621045016166,
    "execution_millis": 2,
    "deepnote_cell_type": "code"
   },
   "source": "import re\nDEF_STOPWORDS = ['i', 'me', 'my', 'myself', 'we', 'our', 'ours', 'ourselves', 'he', 'him', 'his', 'himself', 'she', \"she's\", 'her', 'hers', 'herself', 'it', \"it's\", 'its', 'itself', 'they', 'them', 'their', 'theirs', 'themselves', 'what', 'which', 'who', 'whom', 'this', 'that', \"that'll\", 'these', 'those', 'am', 'is', 'are', 'was', 'were', 'be', 'been', 'being', 'have', 'has', 'had', 'having', 'do', 'does', 'did', 'doing', 'a', 'an', 'the', 'and', 'but', 'if', 'or', 'because', 'as', 'until', 'while', 'of', 'at', 'by', 'for', 'with', 'about', 'against', 'between', 'into', 'through', 'during', 'before', 'after', 'above', 'below', 'to', 'from', 'up', 'down', 'in', 'out', 'on', 'off', 'over', 'under', 'again', 'further', 'then', 'once', 'here', 'there', 'when', 'where', 'why', 'how', 'all', 'any', 'both', 'each', 'few', 'more', 'most', 'other', 'some', 'such', 'no', 'nor', 'not', 'only', 'own', 'same', 'so', 'than', 'too', 'very', 'can', 'will', 'just', \"don't\", 'should', \"should've\", 'now', \"aren't\", \"couldn't\", \"didn't\", \"doesn't\", \"hadn't\", \"hasn't\", \"haven't\", \"isn't\", \"mightn't\", \"mustn't\", \"needn't\", \"shan't\", \"shouldn't\", \"wasn't\", \"weren't\", \"won't\", \"wouldn't\"]",
   "execution_count": null,
   "outputs": []
  },
  {
   "cell_type": "code",
   "metadata": {
    "tags": [],
    "cell_id": "00002-95e81b88-3ad3-407e-9a62-9ce9b2ba4daa",
    "deepnote_to_be_reexecuted": false,
    "source_hash": "99631999",
    "execution_start": 1621047946497,
    "execution_millis": 2,
    "deepnote_cell_type": "code"
   },
   "source": "def translate_text(text):\n    \"\"\"\n    Translate the text into a new \"special\" language\n    \"\"\"\n\n    # you words\n    you_tokens = ['you', \"you're\", \"you've\", \"you'll\", \"you'd\", 'your', 'yours', 'yourself', 'yourselves']\n    \n    # most common profanity tokens as per training data\n    common_profane_tokens = ['fuck', 'nigga', 'suck', 'die', 'bitch', 'faggot', 'shit', 'ass', 'bastard', 'blocked', 'kill', 'block', 'aids']\n\n    # profane tokens as per list\n    profane_list = open(\"../data/external/profanity_list.txt\", 'r').readlines()\n    profane_list = [w.replace('\\n', '') for w in profane_list]\n    profane_tokens = profane_list\n\n    # single occurence words\n    custom_stopwords = open(\"../data/custom_stopwords.txt\", 'r').readlines()\n    custom_stopwords = [w.replace('\\n', '') for w in custom_stopwords]\n    \n    # default stopwords\n    stop_tokens = DEF_STOPWORDS\n\n    # lowercase and remove punctuations\n    text = re.sub(r'[^\\w\\s]', '', text.lower())\n\n    text_tokens = text.split()\n    text_tokens = [tok for tok in text_tokens if tok not in custom_stopwords]\n    translated_tokens = []\n\n    for token in text_tokens:\n        if token in you_tokens:\n            translated_tokens.append(\"YOUWORD\")\n        elif token in common_profane_tokens:\n            translated_tokens.append(\"COMMONPROFANITY\")\n        elif token in profane_tokens:\n            translated_tokens.append(\"PROFANITY\")\n        elif token in stop_tokens:\n            translated_tokens.append(\"STOPWORD\")\n        else:\n            translated_tokens.append(token)\n\n    translated_text = \" \".join(translated_tokens)\n\n    return translated_text",
   "execution_count": null,
   "outputs": []
  },
  {
   "cell_type": "code",
   "metadata": {
    "tags": [],
    "cell_id": "00004-881d4346-0db2-4ad0-9f05-e77dc3e65ecb",
    "deepnote_to_be_reexecuted": false,
    "source_hash": "dfc09a5e",
    "execution_start": 1621047973876,
    "execution_millis": 688918,
    "deepnote_cell_type": "code"
   },
   "source": "df['translated'] = df.text.apply(translate_text)",
   "execution_count": null,
   "outputs": []
  },
  {
   "cell_type": "code",
   "metadata": {
    "tags": [],
    "cell_id": "00005-08e8c2ed-dbf6-4698-a56b-51b012afda31",
    "deepnote_to_be_reexecuted": false,
    "source_hash": "c085b6ba",
    "execution_start": 1621048677689,
    "execution_millis": 6,
    "deepnote_cell_type": "code"
   },
   "source": "df.head()",
   "execution_count": null,
   "outputs": [
    {
     "output_type": "execute_result",
     "execution_count": 15,
     "data": {
      "application/vnd.deepnote.dataframe.v2+json": {
       "row_count": 5,
       "column_count": 4,
       "columns": [
        {
         "name": "id",
         "dtype": "int64",
         "stats": {
          "unique_count": 5,
          "nan_count": 0,
          "min": "61527923",
          "max": "348598183",
          "histogram": [
           {
            "bin_start": 61527923,
            "bin_end": 90234949,
            "count": 1
           },
           {
            "bin_start": 90234949,
            "bin_end": 118941975,
            "count": 1
           },
           {
            "bin_start": 118941975,
            "bin_end": 147649001,
            "count": 0
           },
           {
            "bin_start": 147649001,
            "bin_end": 176356027,
            "count": 0
           },
           {
            "bin_start": 176356027,
            "bin_end": 205063053,
            "count": 1
           },
           {
            "bin_start": 205063053,
            "bin_end": 233770079,
            "count": 0
           },
           {
            "bin_start": 233770079,
            "bin_end": 262477105,
            "count": 0
           },
           {
            "bin_start": 262477105,
            "bin_end": 291184131,
            "count": 0
           },
           {
            "bin_start": 291184131,
            "bin_end": 319891157,
            "count": 0
           },
           {
            "bin_start": 319891157,
            "bin_end": 348598183,
            "count": 2
           }
          ]
         }
        },
        {
         "name": "attack",
         "dtype": "int64",
         "stats": {
          "unique_count": 2,
          "nan_count": 0,
          "min": "0",
          "max": "1",
          "histogram": [
           {
            "bin_start": 0,
            "bin_end": 0.1,
            "count": 3
           },
           {
            "bin_start": 0.1,
            "bin_end": 0.2,
            "count": 0
           },
           {
            "bin_start": 0.2,
            "bin_end": 0.30000000000000004,
            "count": 0
           },
           {
            "bin_start": 0.30000000000000004,
            "bin_end": 0.4,
            "count": 0
           },
           {
            "bin_start": 0.4,
            "bin_end": 0.5,
            "count": 0
           },
           {
            "bin_start": 0.5,
            "bin_end": 0.6000000000000001,
            "count": 0
           },
           {
            "bin_start": 0.6000000000000001,
            "bin_end": 0.7000000000000001,
            "count": 0
           },
           {
            "bin_start": 0.7000000000000001,
            "bin_end": 0.8,
            "count": 0
           },
           {
            "bin_start": 0.8,
            "bin_end": 0.9,
            "count": 0
           },
           {
            "bin_start": 0.9,
            "bin_end": 1,
            "count": 2
           }
          ]
         }
        },
        {
         "name": "text",
         "dtype": "object",
         "stats": {
          "unique_count": 5,
          "nan_count": 0,
          "categories": [
           {
            "name": "which may contain more details",
            "count": 1
           },
           {
            "name": "Regardless, the point is that I am willing to see what information you have to add to the article.  I'd rather not have my contributions be stricken by a lurker simply because you don't like me or whatever personal reason you can concoct.  Please, contribute positively to the article or butt-out and mind your business.",
            "count": 1
           },
           {
            "name": "3 others",
            "count": 3
           }
          ]
         }
        },
        {
         "name": "translated",
         "dtype": "object",
         "stats": {
          "unique_count": 5,
          "nan_count": 0,
          "categories": [
           {
            "name": "may contain details",
            "count": 1
           },
           {
            "name": "regardless point willing information add id rather contributions simply dont whatever personal reason contribute positively buttout mind business",
            "count": 1
           },
           {
            "name": "3 others",
            "count": 3
           }
          ]
         }
        },
        {
         "name": "_deepnote_index_column",
         "dtype": "int64"
        }
       ],
       "rows_top": [
        {
         "id": 348598183,
         "attack": 0,
         "text": "which may contain more details",
         "translated": "may contain details",
         "_deepnote_index_column": 0
        },
        {
         "id": 61527923,
         "attack": 1,
         "text": "Regardless, the point is that I am willing to see what information you have to add to the article.  I'd rather not have my contributions be stricken by a lurker simply because you don't like me or whatever personal reason you can concoct.  Please, contribute positively to the article or butt-out and mind your business.",
         "translated": "regardless point willing information add id rather contributions simply dont whatever personal reason contribute positively buttout mind business",
         "_deepnote_index_column": 1
        },
        {
         "id": 325989249,
         "attack": 0,
         "text": "Lede  \nI'm reverting (again) the additions to the lede on ``controversies``. It (a) gives undue weight to some very old controversies and (b) is wrong - Amway was not found guilty of criminal tax evasion nor of copyright versions. In the Canadian case they pleaded guilty to settle the case, and in the second Amway settled a case that was against distributors, not Amway.",
         "translated": "lede im reverting STOPWORD additions lede controversies gives undue weight STOPWORD old controversies b wrong found guilty PROFANITY tax STOPWORD copyright versions PROFANITY case guilty settle case second settled case STOPWORD",
         "_deepnote_index_column": 2
        },
        {
         "id": 197250961,
         "attack": 0,
         "text": "I just came to this page and was wondering why there is no ``Criticism`` or ``Controversy`` tab for me to click on at the top, I am aware her life is a source of controversy why can't I read about it",
         "translated": "came wondering criticism controversy tab click top aware STOPWORD life source controversy cant read",
         "_deepnote_index_column": 3
        },
        {
         "id": 116195271,
         "attack": 1,
         "text": "It's worth having an illustration.  The Type 2 picture, however, is frankly very shitty.  It's blurry and doesn't impart any information.  /)",
         "translated": "STOPWORD worth STOPWORD illustration type 2 picture however frankly STOPWORD shitty STOPWORD doesnt information",
         "_deepnote_index_column": 4
        }
       ],
       "rows_bottom": null
      },
      "text/plain": "          id  attack                                               text  \\\n0  348598183       0                     which may contain more details   \n1   61527923       1  Regardless, the point is that I am willing to ...   \n2  325989249       0  Lede  \\nI'm reverting (again) the additions to...   \n3  197250961       0  I just came to this page and was wondering why...   \n4  116195271       1  It's worth having an illustration.  The Type 2...   \n\n                                          translated  \n0                                may contain details  \n1  regardless point willing information add id ra...  \n2  lede im reverting STOPWORD additions lede cont...  \n3  came wondering criticism controversy tab click...  \n4  STOPWORD worth STOPWORD illustration type 2 pi...  ",
      "text/html": "<div>\n<style scoped>\n    .dataframe tbody tr th:only-of-type {\n        vertical-align: middle;\n    }\n\n    .dataframe tbody tr th {\n        vertical-align: top;\n    }\n\n    .dataframe thead th {\n        text-align: right;\n    }\n</style>\n<table border=\"1\" class=\"dataframe\">\n  <thead>\n    <tr style=\"text-align: right;\">\n      <th></th>\n      <th>id</th>\n      <th>attack</th>\n      <th>text</th>\n      <th>translated</th>\n    </tr>\n  </thead>\n  <tbody>\n    <tr>\n      <th>0</th>\n      <td>348598183</td>\n      <td>0</td>\n      <td>which may contain more details</td>\n      <td>may contain details</td>\n    </tr>\n    <tr>\n      <th>1</th>\n      <td>61527923</td>\n      <td>1</td>\n      <td>Regardless, the point is that I am willing to ...</td>\n      <td>regardless point willing information add id ra...</td>\n    </tr>\n    <tr>\n      <th>2</th>\n      <td>325989249</td>\n      <td>0</td>\n      <td>Lede  \\nI'm reverting (again) the additions to...</td>\n      <td>lede im reverting STOPWORD additions lede cont...</td>\n    </tr>\n    <tr>\n      <th>3</th>\n      <td>197250961</td>\n      <td>0</td>\n      <td>I just came to this page and was wondering why...</td>\n      <td>came wondering criticism controversy tab click...</td>\n    </tr>\n    <tr>\n      <th>4</th>\n      <td>116195271</td>\n      <td>1</td>\n      <td>It's worth having an illustration.  The Type 2...</td>\n      <td>STOPWORD worth STOPWORD illustration type 2 pi...</td>\n    </tr>\n  </tbody>\n</table>\n</div>"
     },
     "metadata": {}
    }
   ]
  },
  {
   "cell_type": "code",
   "metadata": {
    "tags": [],
    "cell_id": "00005-7ffdc957-6d04-4b7a-b17e-23d3a08056fe",
    "deepnote_to_be_reexecuted": false,
    "source_hash": "81c8a7a3",
    "execution_start": 1621048686833,
    "execution_millis": 93,
    "deepnote_cell_type": "code"
   },
   "source": "df = df.drop(['text'], axis=1)\ndf.columns = ['id', 'attack', 'text']\ndf.to_csv('../data/train_translated.csv', index=False)",
   "execution_count": null,
   "outputs": []
  },
  {
   "cell_type": "code",
   "metadata": {
    "tags": [],
    "cell_id": "00006-ab8c2f22-113a-46c8-b6ad-0c3622afc106",
    "deepnote_to_be_reexecuted": false,
    "source_hash": "c085b6ba",
    "execution_start": 1621046252801,
    "execution_millis": 8,
    "deepnote_cell_type": "code"
   },
   "source": "df.head()",
   "execution_count": null,
   "outputs": [
    {
     "output_type": "execute_result",
     "execution_count": 8,
     "data": {
      "application/vnd.deepnote.dataframe.v2+json": {
       "row_count": 5,
       "column_count": 3,
       "columns": [
        {
         "name": "id",
         "dtype": "int64",
         "stats": {
          "unique_count": 5,
          "nan_count": 0,
          "min": "61527923",
          "max": "348598183",
          "histogram": [
           {
            "bin_start": 61527923,
            "bin_end": 90234949,
            "count": 1
           },
           {
            "bin_start": 90234949,
            "bin_end": 118941975,
            "count": 1
           },
           {
            "bin_start": 118941975,
            "bin_end": 147649001,
            "count": 0
           },
           {
            "bin_start": 147649001,
            "bin_end": 176356027,
            "count": 0
           },
           {
            "bin_start": 176356027,
            "bin_end": 205063053,
            "count": 1
           },
           {
            "bin_start": 205063053,
            "bin_end": 233770079,
            "count": 0
           },
           {
            "bin_start": 233770079,
            "bin_end": 262477105,
            "count": 0
           },
           {
            "bin_start": 262477105,
            "bin_end": 291184131,
            "count": 0
           },
           {
            "bin_start": 291184131,
            "bin_end": 319891157,
            "count": 0
           },
           {
            "bin_start": 319891157,
            "bin_end": 348598183,
            "count": 2
           }
          ]
         }
        },
        {
         "name": "attack",
         "dtype": "int64",
         "stats": {
          "unique_count": 2,
          "nan_count": 0,
          "min": "0",
          "max": "1",
          "histogram": [
           {
            "bin_start": 0,
            "bin_end": 0.1,
            "count": 3
           },
           {
            "bin_start": 0.1,
            "bin_end": 0.2,
            "count": 0
           },
           {
            "bin_start": 0.2,
            "bin_end": 0.30000000000000004,
            "count": 0
           },
           {
            "bin_start": 0.30000000000000004,
            "bin_end": 0.4,
            "count": 0
           },
           {
            "bin_start": 0.4,
            "bin_end": 0.5,
            "count": 0
           },
           {
            "bin_start": 0.5,
            "bin_end": 0.6000000000000001,
            "count": 0
           },
           {
            "bin_start": 0.6000000000000001,
            "bin_end": 0.7000000000000001,
            "count": 0
           },
           {
            "bin_start": 0.7000000000000001,
            "bin_end": 0.8,
            "count": 0
           },
           {
            "bin_start": 0.8,
            "bin_end": 0.9,
            "count": 0
           },
           {
            "bin_start": 0.9,
            "bin_end": 1,
            "count": 2
           }
          ]
         }
        },
        {
         "name": "text",
         "dtype": "object",
         "stats": {
          "unique_count": 5,
          "nan_count": 0,
          "categories": [
           {
            "name": "may contain details",
            "count": 1
           },
           {
            "name": "regardless point willing information add id rather contributions simply dont whatever personal reason contribute positively buttout mind business",
            "count": 1
           },
           {
            "name": "3 others",
            "count": 3
           }
          ]
         }
        },
        {
         "name": "_deepnote_index_column",
         "dtype": "int64"
        }
       ],
       "rows_top": [
        {
         "id": 348598183,
         "attack": 0,
         "text": "may contain details",
         "_deepnote_index_column": 0
        },
        {
         "id": 61527923,
         "attack": 1,
         "text": "regardless point willing information add id rather contributions simply dont whatever personal reason contribute positively buttout mind business",
         "_deepnote_index_column": 1
        },
        {
         "id": 325989249,
         "attack": 0,
         "text": "lede im reverting <STOPWORD> additions lede controversies gives undue weight <STOPWORD> old controversies b wrong found guilty <PROFANITY> tax <STOPWORD> copyright versions <PROFANITY> case guilty settle case second settled case <STOPWORD>",
         "_deepnote_index_column": 2
        },
        {
         "id": 197250961,
         "attack": 0,
         "text": "came wondering criticism controversy tab click top aware <STOPWORD> life source controversy cant read",
         "_deepnote_index_column": 3
        },
        {
         "id": 116195271,
         "attack": 1,
         "text": "<STOPWORD> worth <STOPWORD> illustration type 2 picture however frankly <STOPWORD> shitty <STOPWORD> doesnt information",
         "_deepnote_index_column": 4
        }
       ],
       "rows_bottom": null
      },
      "text/plain": "          id  attack                                               text\n0  348598183       0                                may contain details\n1   61527923       1  regardless point willing information add id ra...\n2  325989249       0  lede im reverting <STOPWORD> additions lede co...\n3  197250961       0  came wondering criticism controversy tab click...\n4  116195271       1  <STOPWORD> worth <STOPWORD> illustration type ...",
      "text/html": "<div>\n<style scoped>\n    .dataframe tbody tr th:only-of-type {\n        vertical-align: middle;\n    }\n\n    .dataframe tbody tr th {\n        vertical-align: top;\n    }\n\n    .dataframe thead th {\n        text-align: right;\n    }\n</style>\n<table border=\"1\" class=\"dataframe\">\n  <thead>\n    <tr style=\"text-align: right;\">\n      <th></th>\n      <th>id</th>\n      <th>attack</th>\n      <th>text</th>\n    </tr>\n  </thead>\n  <tbody>\n    <tr>\n      <th>0</th>\n      <td>348598183</td>\n      <td>0</td>\n      <td>may contain details</td>\n    </tr>\n    <tr>\n      <th>1</th>\n      <td>61527923</td>\n      <td>1</td>\n      <td>regardless point willing information add id ra...</td>\n    </tr>\n    <tr>\n      <th>2</th>\n      <td>325989249</td>\n      <td>0</td>\n      <td>lede im reverting &lt;STOPWORD&gt; additions lede co...</td>\n    </tr>\n    <tr>\n      <th>3</th>\n      <td>197250961</td>\n      <td>0</td>\n      <td>came wondering criticism controversy tab click...</td>\n    </tr>\n    <tr>\n      <th>4</th>\n      <td>116195271</td>\n      <td>1</td>\n      <td>&lt;STOPWORD&gt; worth &lt;STOPWORD&gt; illustration type ...</td>\n    </tr>\n  </tbody>\n</table>\n</div>"
     },
     "metadata": {}
    }
   ]
  },
  {
   "cell_type": "code",
   "metadata": {
    "tags": [],
    "cell_id": "00007-0d61ee2e-9642-4651-ae7f-e7cbe6512bbe",
    "deepnote_to_be_reexecuted": false,
    "source_hash": "de1e323c",
    "execution_start": 1621004408913,
    "execution_millis": 68,
    "deepnote_cell_type": "code"
   },
   "source": "df.info()",
   "execution_count": null,
   "outputs": [
    {
     "name": "stdout",
     "text": "<class 'pandas.core.frame.DataFrame'>\nRangeIndex: 15000 entries, 0 to 14999\nData columns (total 3 columns):\n #   Column  Non-Null Count  Dtype \n---  ------  --------------  ----- \n 0   id      15000 non-null  int64 \n 1   attack  15000 non-null  int64 \n 2   text    15000 non-null  object\ndtypes: int64(2), object(1)\nmemory usage: 351.7+ KB\n",
     "output_type": "stream"
    }
   ]
  },
  {
   "cell_type": "code",
   "metadata": {
    "tags": [],
    "cell_id": "00008-b92ea5a4-8987-4ef6-8aa3-bb093ebc8c85",
    "deepnote_to_be_reexecuted": false,
    "source_hash": "9b89d72",
    "execution_start": 1621004718011,
    "execution_millis": 125,
    "deepnote_cell_type": "code"
   },
   "source": "train = pd.read_csv(\"../data/train_translated.csv\")\ntarget = 'attack'\ntext_feat = 'text'",
   "execution_count": null,
   "outputs": []
  },
  {
   "cell_type": "code",
   "metadata": {
    "tags": [],
    "cell_id": "00009-43bbcdf2-26f1-43ce-b72b-287be46c72bb",
    "deepnote_to_be_reexecuted": false,
    "source_hash": "fea28bdd",
    "execution_start": 1621004722456,
    "execution_millis": 10,
    "deepnote_cell_type": "code"
   },
   "source": "train.info()",
   "execution_count": null,
   "outputs": [
    {
     "name": "stdout",
     "text": "<class 'pandas.core.frame.DataFrame'>\nRangeIndex: 15000 entries, 0 to 14999\nData columns (total 3 columns):\n #   Column  Non-Null Count  Dtype \n---  ------  --------------  ----- \n 0   id      15000 non-null  int64 \n 1   attack  15000 non-null  int64 \n 2   text    14998 non-null  object\ndtypes: int64(2), object(1)\nmemory usage: 351.7+ KB\n",
     "output_type": "stream"
    }
   ]
  },
  {
   "cell_type": "code",
   "metadata": {
    "tags": [],
    "cell_id": "00010-8632ab9e-7827-4e8e-9d78-aa04c3936e6e",
    "deepnote_cell_type": "code"
   },
   "source": "",
   "execution_count": null,
   "outputs": []
  },
  {
   "cell_type": "markdown",
   "source": "<a style='text-decoration:none;line-height:16px;display:flex;color:#5B5B62;padding:10px;justify-content:end;' href='https://deepnote.com?utm_source=created-in-deepnote-cell&projectId=94079369-10d1-4c3e-b7f5-859473c4f3a7' target=\"_blank\">\n<img alt='Created in deepnote.com' style='display:inline;max-height:16px;margin:0px;margin-right:7.5px;' src='data:image/svg+xml;base64,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' > </img>\nCreated in <span style='font-weight:600;margin-left:4px;'>Deepnote</span></a>",
   "metadata": {
    "tags": [],
    "created_in_deepnote_cell": true,
    "deepnote_cell_type": "markdown"
   }
  }
 ],
 "nbformat": 4,
 "nbformat_minor": 2,
 "metadata": {
  "orig_nbformat": 2,
  "deepnote": {
   "is_reactive": false
  },
  "deepnote_notebook_id": "16156cc4-9ace-4669-8a1c-de5bfaa151b2",
  "deepnote_execution_queue": []
 }
}